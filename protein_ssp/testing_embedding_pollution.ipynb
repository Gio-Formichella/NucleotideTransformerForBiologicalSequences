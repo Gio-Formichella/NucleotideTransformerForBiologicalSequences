{
  "nbformat": 4,
  "nbformat_minor": 0,
  "metadata": {
    "colab": {
      "provenance": []
    },
    "kernelspec": {
      "name": "python3",
      "display_name": "Python 3"
    },
    "language_info": {
      "name": "python"
    }
  },
  "cells": [
    {
      "cell_type": "code",
      "execution_count": null,
      "metadata": {
        "colab": {
          "base_uri": "https://localhost:8080/"
        },
        "id": "hSGiz8B4Xpv7",
        "outputId": "4ab00e67-872d-4d50-9358-c5fb8809f729"
      },
      "outputs": [
        {
          "output_type": "stream",
          "name": "stdout",
          "text": [
            "Requirement already satisfied: lightgbm in /usr/local/lib/python3.10/dist-packages (4.1.0)\n",
            "Requirement already satisfied: numpy in /usr/local/lib/python3.10/dist-packages (from lightgbm) (1.23.5)\n",
            "Requirement already satisfied: scipy in /usr/local/lib/python3.10/dist-packages (from lightgbm) (1.11.3)\n"
          ]
        }
      ],
      "source": [
        "import os\n",
        "\n",
        "try:\n",
        "    import nucleotide_transformer\n",
        "except:\n",
        "    !pip install numpy==1.23.5\n",
        "    !pip install git+https://github.com/instadeepai/nucleotide-transformer@main |tail -n 1\n",
        "    import nucleotide_transformer\n",
        "\n",
        "if \"COLAB_TPU_ADDR\" in os.environ:\n",
        "    from jax.tools import colab_tpu\n",
        "\n",
        "    colab_tpu.setup_tpu()\n",
        "\n",
        "!pip install -q biopython transformers datasets huggingface_hub accelerate\n",
        "!pip install lightgbm\n",
        "\n",
        "import haiku as hk\n",
        "import jax\n",
        "import jax.numpy as jnp\n",
        "from nucleotide_transformer.pretrained import get_pretrained_model"
      ]
    },
    {
      "cell_type": "code",
      "source": [
        "#@title Select a model\n",
        "#@markdown ---\n",
        "model_name = '500M_human_ref'#@param['500M_human_ref', '500M_1000G', '2B5_1000G', '2B5_multi_species', '50M_multi_species_v2', '100M_multi_species_v2', '250M_multi_species_v2', '500M_multi_species_v2']\n",
        "#@markdown ---"
      ],
      "metadata": {
        "id": "QdsRhzQrXtAP"
      },
      "execution_count": null,
      "outputs": []
    },
    {
      "cell_type": "code",
      "source": [
        "embeddings_layer = 20  # layer of embeddings extraction (0:24)\n",
        "\n",
        "# Get pretrained model\n",
        "parameters, forward_fn, tokenizer, config = get_pretrained_model(\n",
        "    model_name=model_name,\n",
        "    embeddings_layers_to_save=(embeddings_layer,),\n",
        "    max_positions=999\n",
        ")\n",
        "forward_fn = hk.transform(forward_fn)"
      ],
      "metadata": {
        "id": "jcnvMd3rXuqD"
      },
      "execution_count": null,
      "outputs": []
    },
    {
      "cell_type": "code",
      "source": [
        "from datasets import load_dataset\n",
        "\n",
        "dataset_dict = load_dataset(\"proteinea/secondary_structure_prediction\")\n",
        "dataset = dataset_dict[\"train\"]\n",
        "\n",
        "# dataset = dataset.filter(lambda row: len(row[\"input\"]) % 2 == 0 )  # Filtering to maintain the 2 amino acid per token structure\n",
        "# dataset = dataset[:2500] # Adjust to available memory\n",
        "\n",
        "X_amino_acids = dataset[\"input\"]\n",
        "y_seq = dataset[\"dssp3\"]"
      ],
      "metadata": {
        "id": "n5N_3q43Xwr5"
      },
      "execution_count": null,
      "outputs": []
    },
    {
      "cell_type": "code",
      "source": [
        "import random\n",
        "\n",
        "def protein_to_rna(protein_sequence):\n",
        "    amino_acid_to_codons = {\n",
        "        \"A\": [\"GCU\", \"GCC\", \"GCA\", \"GCG\"],\n",
        "        \"R\": [\"CGU\", \"CGC\", \"CGA\", \"CGG\", \"AGA\", \"AGG\"],\n",
        "        \"N\": [\"AAU\", \"AAC\"],\n",
        "        \"D\": [\"GAU\", \"GAC\"],\n",
        "        \"B\": [\"AAU\", \"AAC\", \"GAU\", \"GAC\"],\n",
        "        \"C\": [\"UGU\", \"UGC\"],\n",
        "        \"Q\": [\"CAA\", \"CAG\"],\n",
        "        \"E\": [\"GAA\", \"GAG\"],\n",
        "        \"Z\": [\"CAA\", \"CAG\", \"GAA\", \"GAG\"],\n",
        "        \"G\": [\"GGU\", \"GGC\", \"GGA\", \"GGG\"],\n",
        "        \"H\": [\"CAU\", \"CAC\"],\n",
        "        \"I\": [\"AUU\", \"AUC\", \"AUA\"],\n",
        "        \"L\": [\"CUU\", \"CUC\", \"CUA\", \"CUG\", \"UUA\", \"UUG\"],\n",
        "        \"K\": [\"AAA\", \"AAG\"],\n",
        "        \"M\": [\"AUG\"],\n",
        "        \"F\": [\"UUU\", \"UUC\"],\n",
        "        \"P\": [\"CCU\", \"CCC\", \"CCA\", \"CCG\"],\n",
        "        \"S\": [\"UCU\", \"UCC\", \"UCA\", \"UCG\", \"AGU\", \"AGC\"],\n",
        "        \"T\": [\"ACU\", \"ACC\", \"ACA\", \"ACG\"],\n",
        "        \"W\": [\"UGG\"],\n",
        "        \"Y\": [\"UAU\", \"UAC\"],\n",
        "        \"V\": [\"GUU\", \"GUC\", \"GUA\", \"GUG\"],\n",
        "        \"U\": [\"UUU\"], # Approximation used to maintain the sequence token class structure\n",
        "        \"X\": [\"UUU\"], # added to test code correcteness. TODO delete this row\n",
        "        \"O\": [\"UUU\"] # Same as X\n",
        "    }\n",
        "\n",
        "    # Converts protein sequence to RNA sequence\n",
        "    rna_sequence = ''\n",
        "    for amino_acid in protein_sequence:\n",
        "        codons = amino_acid_to_codons.get(amino_acid)\n",
        "        rna_sequence += codons[random.randint(0, len(codons)-1)]  # Chose codon\n",
        "\n",
        "    return rna_sequence"
      ],
      "metadata": {
        "id": "8BY5AE_hZfEx"
      },
      "execution_count": null,
      "outputs": []
    },
    {
      "cell_type": "code",
      "source": [
        "def rna_to_dna(rna_sequence):\n",
        "    rna_to_dna_base_pairs = {'A': 'T', 'U': 'A', 'C': 'G', 'G': 'C'}\n",
        "\n",
        "    # Convert RNA sequence to complementary DNA sequence\n",
        "    dna_sequence = ''.join(rna_to_dna_base_pairs.get(base) for base in rna_sequence)\n",
        "\n",
        "    return dna_sequence"
      ],
      "metadata": {
        "id": "iOz3pdqfjFxb"
      },
      "execution_count": null,
      "outputs": []
    },
    {
      "cell_type": "code",
      "source": [
        "batch_size = 8 # Adjust to available memory\n",
        "\n",
        "def get_6mers_embeddings(sequences: list, batch_size: int):\n",
        "    embeddings = []  # Stores 6mers embeddings\n",
        "\n",
        "    # Split sequences into batches\n",
        "    batched_sequences = [sequences[i:i + batch_size] for i in range(0, len(sequences), batch_size)]\n",
        "\n",
        "    random_key = jax.random.PRNGKey(0)\n",
        "    extraction_layer = \"embeddings_\" + str(embeddings_layer)\n",
        "    cls_token_position = 0 # Position of the CLS token for every sequence\n",
        "\n",
        "    for batch in batched_sequences:\n",
        "        # Tokenize the batch\n",
        "        tokens_ids = [b[1] for b in tokenizer.batch_tokenize(batch)]\n",
        "        tokens = jnp.asarray(tokens_ids, dtype=jnp.int32)\n",
        "\n",
        "        # Infer\n",
        "        outs = forward_fn.apply(parameters, random_key, tokens)\n",
        "\n",
        "        # Get embeddings\n",
        "        batch_embeddings = outs[extraction_layer]\n",
        "\n",
        "        # Mask for padding tokens\n",
        "        padding_mask = (tokens != tokenizer.pad_token_id) & (jnp.arange(tokens.shape[1]) != cls_token_position)\n",
        "\n",
        "        # Element-wise multiplication to set embeddings corresponding to padding tokens to zero\n",
        "        masked_embeddings = batch_embeddings * padding_mask[:, :, None]\n",
        "\n",
        "        # Removing embeddings relative to CLS and padding tokens\n",
        "        sum_embeddings = jnp.sum(masked_embeddings, axis=-1)\n",
        "        non_zero_mask = sum_embeddings != 0.0\n",
        "        non_zero_embeddings = masked_embeddings[non_zero_mask]\n",
        "\n",
        "        embeddings.append(non_zero_embeddings)\n",
        "\n",
        "\n",
        "    return jnp.concatenate(embeddings, axis=0)"
      ],
      "metadata": {
        "id": "j7QmWH61nQOL"
      },
      "execution_count": null,
      "outputs": []
    },
    {
      "cell_type": "code",
      "source": [
        "import math\n",
        "\n",
        "protein_sequence = X_amino_acids[5]\n",
        "rna_sequence = protein_to_rna(protein_sequence)\n",
        "dna_sequence = rna_to_dna(rna_sequence)\n",
        "\n",
        "n = int(len(dna_sequence)/6)\n",
        "\n",
        "# Comparing embeddings of a sequenze and the one obtained by removing the last codon\n",
        "\n",
        "if len(dna_sequence) % 2 == 0:\n",
        "    embeddings_even  = get_6mers_embeddings([dna_sequence], batch_size)\n",
        "    embeddings_odd = get_6mers_embeddings([dna_sequence[0:-3]], batch_size)\n",
        "else:\n",
        "    embeddings_even  = get_6mers_embeddings([dna_sequence[0:-3]], batch_size)\n",
        "    embeddings_odd = get_6mers_embeddings([dna_sequence], batch_size)\n",
        "\n",
        "def calculate_l2_norm(vector):\n",
        "    # Calculate the L2 norm of the vector\n",
        "    norm = math.sqrt(sum(x**2 for x in vector))\n",
        "    return norm\n",
        "\n",
        "embeddings_odd = embeddings_odd[:n]"
      ],
      "metadata": {
        "id": "U1ZQp-Zmi8E1"
      },
      "execution_count": null,
      "outputs": []
    },
    {
      "cell_type": "code",
      "source": [
        "import matplotlib.pyplot as plt\n",
        "\n",
        "delta = []\n",
        "for i in range(n):\n",
        "    delta.append(calculate_l2_norm(embeddings_even[i] - embeddings_odd[i]))\n",
        "\n",
        "y = delta\n",
        "x= range(1, len(delta) + 1)\n",
        "\n",
        "plt.xlabel('Token number')\n",
        "plt.ylabel('Norm 2')\n",
        "\n",
        "plt.plot(x,y)\n",
        "plt.show()"
      ],
      "metadata": {
        "colab": {
          "base_uri": "https://localhost:8080/",
          "height": 451
        },
        "id": "SSt5d_zKom0J",
        "outputId": "368d2da3-b47b-4f82-d1dd-e337e6119d27"
      },
      "execution_count": null,
      "outputs": [
        {
          "output_type": "display_data",
          "data": {
            "text/plain": [
              "<Figure size 640x480 with 1 Axes>"
            ],
            "image/png": "[encoded data removed]"
          },
          "metadata": {}
        }
      ]
    },
    {
      "cell_type": "code",
      "source": [
        "import numpy as np\n",
        "\n",
        "print(\"Standard deviation:\", np.std(delta))"
      ],
      "metadata": {
        "colab": {
          "base_uri": "https://localhost:8080/"
        },
        "id": "o5bvkxVXr6gk",
        "outputId": "36c8b896-3145-4d24-cfd6-36859ef75773"
      },
      "execution_count": null,
      "outputs": [
        {
          "output_type": "stream",
          "name": "stdout",
          "text": [
            "Standard deviation: 10.09471856676676\n"
          ]
        }
      ]
    }
  ]
}
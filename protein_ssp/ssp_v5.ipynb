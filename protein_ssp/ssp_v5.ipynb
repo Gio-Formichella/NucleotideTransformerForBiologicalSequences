{
  "cells": [
    {
      "cell_type": "markdown",
      "metadata": {
        "id": "kNf-SPUHKVO3"
      },
      "source": [
        "#Secondary structure prediction"
      ]
    },
    {
      "cell_type": "markdown",
      "metadata": {
        "id": "LP_ufcWyKxu6"
      },
      "source": [
        "## Set up"
      ]
    },
    {
      "cell_type": "code",
      "execution_count": null,
      "metadata": {
        "colab": {
          "base_uri": "https://localhost:8080/"
        },
        "id": "-T-eQxT5KKdj",
        "outputId": "a71fd32b-6744-4073-b6bf-b0084ac1116d"
      },
      "outputs": [
        {
          "output_type": "stream",
          "name": "stdout",
          "text": [
            "Requirement already satisfied: numpy==1.23.5 in /usr/local/lib/python3.10/dist-packages (1.23.5)\n",
            "  Running command git clone --filter=blob:none --quiet https://github.com/instadeepai/nucleotide-transformer /tmp/pip-req-build-biidsg6n\n",
            "Successfully installed boto3-1.34.2 botocore-1.34.2 dm-haiku-0.0.11 jmespath-1.0.1 jmp-0.0.4 nucleotide-transformer-0.0.1 s3transfer-0.9.0\n",
            "\u001b[2K     \u001b[90m━━━━━━━━━━━━━━━━━━━━━━━━━━━━━━━━━━━━━━━━\u001b[0m \u001b[32m3.1/3.1 MB\u001b[0m \u001b[31m13.6 MB/s\u001b[0m eta \u001b[36m0:00:00\u001b[0m\n",
            "\u001b[2K     \u001b[90m━━━━━━━━━━━━━━━━━━━━━━━━━━━━━━━━━━━━━━━━\u001b[0m \u001b[32m521.2/521.2 kB\u001b[0m \u001b[31m45.6 MB/s\u001b[0m eta \u001b[36m0:00:00\u001b[0m\n",
            "\u001b[2K     \u001b[90m━━━━━━━━━━━━━━━━━━━━━━━━━━━━━━━━━━━━━━━━\u001b[0m \u001b[32m265.7/265.7 kB\u001b[0m \u001b[31m33.3 MB/s\u001b[0m eta \u001b[36m0:00:00\u001b[0m\n",
            "\u001b[2K     \u001b[90m━━━━━━━━━━━━━━━━━━━━━━━━━━━━━━━━━━━━━━━━\u001b[0m \u001b[32m115.3/115.3 kB\u001b[0m \u001b[31m16.3 MB/s\u001b[0m eta \u001b[36m0:00:00\u001b[0m\n",
            "\u001b[2K     \u001b[90m━━━━━━━━━━━━━━━━━━━━━━━━━━━━━━━━━━━━━━━━\u001b[0m \u001b[32m134.8/134.8 kB\u001b[0m \u001b[31m19.3 MB/s\u001b[0m eta \u001b[36m0:00:00\u001b[0m\n",
            "\u001b[?25hRequirement already satisfied: lightgbm in /usr/local/lib/python3.10/dist-packages (4.1.0)\n",
            "Requirement already satisfied: numpy in /usr/local/lib/python3.10/dist-packages (from lightgbm) (1.23.5)\n",
            "Requirement already satisfied: scipy in /usr/local/lib/python3.10/dist-packages (from lightgbm) (1.11.4)\n"
          ]
        }
      ],
      "source": [
        "import os\n",
        "\n",
        "try:\n",
        "    import nucleotide_transformer\n",
        "except:\n",
        "    !pip install numpy==1.23.5\n",
        "    !pip install git+https://github.com/instadeepai/nucleotide-transformer@main |tail -n 1\n",
        "    import nucleotide_transformer\n",
        "\n",
        "if \"COLAB_TPU_ADDR\" in os.environ:\n",
        "    from jax.tools import colab_tpu\n",
        "\n",
        "    colab_tpu.setup_tpu()\n",
        "\n",
        "!pip install -q biopython transformers datasets huggingface_hub accelerate\n",
        "!pip install lightgbm\n",
        "\n",
        "import haiku as hk\n",
        "import jax\n",
        "import jax.numpy as jnp\n",
        "from nucleotide_transformer.pretrained import get_pretrained_model"
      ]
    },
    {
      "cell_type": "markdown",
      "metadata": {
        "id": "kZymIhHcLAYs"
      },
      "source": [
        "##Import model"
      ]
    },
    {
      "cell_type": "code",
      "source": [
        "#@title Select a model\n",
        "#@markdown ---\n",
        "model_name = '500M_human_ref'#@param['500M_human_ref', '500M_1000G', '2B5_1000G', '2B5_multi_species', '50M_multi_species_v2', '100M_multi_species_v2', '250M_multi_species_v2', '500M_multi_species_v2']\n",
        "#@markdown ---"
      ],
      "metadata": {
        "id": "1jUvOofyN5Vm"
      },
      "execution_count": null,
      "outputs": []
    },
    {
      "cell_type": "code",
      "execution_count": null,
      "metadata": {
        "id": "2U0P5U6-LCfA"
      },
      "outputs": [],
      "source": [
        "embeddings_layer = 20  # layer of embeddings extraction (0:24)\n",
        "seq_max_length = 200  # Max length of the protein sequence\n",
        "\n",
        "# Get pretrained model\n",
        "parameters, forward_fn, tokenizer, config = get_pretrained_model(\n",
        "    model_name=model_name,\n",
        "    embeddings_layers_to_save=(embeddings_layer,),\n",
        "    max_positions= seq_max_length + 50\n",
        ")\n",
        "forward_fn = hk.transform(forward_fn)"
      ]
    },
    {
      "cell_type": "markdown",
      "metadata": {
        "id": "EPY5JKhyLShc"
      },
      "source": [
        "##Import dataset"
      ]
    },
    {
      "cell_type": "code",
      "source": [
        "from datasets import load_dataset\n",
        "import pandas as pd\n",
        "\n",
        "dataset_dict = load_dataset(\"proteinea/secondary_structure_prediction\")\n",
        "dataset = dataset_dict[\"train\"].to_pandas()"
      ],
      "metadata": {
        "id": "O6MWj193vqQs",
        "colab": {
          "base_uri": "https://localhost:8080/",
          "height": 145,
          "referenced_widgets": [
            "1db29c073d824517984328091d315f25",
            "7a3cba216aa84f6db0d49042a5803f0b",
            "549995915beb4a768987c9951fb68b0b",
            "c48eac703baa46aca337a212ce43c545",
            "7748453f4f1d4934adb2f92260953951",
            "3a1877f6797e4c63b3e7ab6b3bb50060",
            "220dd0d1a9f2475c937b557b0baede84",
            "ec66ad876bba43929388db769e423725",
            "138ecf4227ed46349caa755d0348cf17",
            "55027088e76c42aeb1de5e73eb7f15ba",
            "fa0bdc665e51457083cdd174c63f834f",
            "19c7e1eca2ba4427928f681df56b5e28",
            "775fd0ce0d27455aa0fb208a91c7ca95",
            "6993fe36a8164e92a38539226d90344d",
            "91fc53d891db417787b9f364ebb264d4",
            "fda15f18e7aa4e8d84b0516542953af0",
            "cf08aff0eb55428b9421d5fcd632c951",
            "fdfff29dc9574f58895a53a9b96071f2",
            "bb5db0d0d5f342a7adf449dd1286183a",
            "ee292ce7e29344c7806c9538c06f7bd6",
            "eb26c8e0853146bcbf17f768d5ddf364",
            "8ac55340c98a4ed4b39bf4d6e69430ca",
            "bfbb7e6af6c84bca9f6e40f65506b460",
            "48fe640071104b7a8486e67634c904c2",
            "bf141c9b82cb4f8e8223d037814ffde6",
            "c55e19fe41624c79920466dd84053143",
            "d4bad4313ca4420ca21a1993245f2823",
            "3493710f0609453a8f00e3fe1f54c0a2",
            "d031226760a24cb3a18e87eb47293f42",
            "7f05a9aa068d41bfbed0d004919612f2",
            "f7f1f3c8e1894a2b87d2ba89e82d8a51",
            "8544b4d7429a48f4bfad3bf84812fcef",
            "4ef2303a11af4746a4a4eb0071d5bdb3",
            "22cd27686e314fa8bf8eb020cbd97ebb",
            "572e3a177b1543788f00f53fe01f88c2",
            "a60d6d9ab6914b028f309b2f43b7e630",
            "e56a312118cb4485954625216ec6cf2b",
            "badc6700d4a24e46a4875b0d97de1da0",
            "34682323b41947989d72df119e22faab",
            "6a52d50d803f4bdf91a67f25e67cabd3",
            "4aa54b751dbb4783b7618db7eb4c665e",
            "f3efb7beb3da49cc836e207605902d6f",
            "f983a0d8aeaa4be68d50420dc9476fa3",
            "c0bc921f7c40437888600b3462137616"
          ]
        },
        "outputId": "3c7e4705-d8bb-4ec3-f6be-4dc12e8bdc36"
      },
      "execution_count": null,
      "outputs": [
        {
          "output_type": "display_data",
          "data": {
            "text/plain": [
              "Downloading data files:   0%|          | 0/1 [00:00<?, ?it/s]"
            ],
            "application/vnd.jupyter.widget-view+json": {
              "version_major": 2,
              "version_minor": 0,
              "model_id": "1db29c073d824517984328091d315f25"
            }
          },
          "metadata": {}
        },
        {
          "output_type": "display_data",
          "data": {
            "text/plain": [
              "Downloading data:   0%|          | 0.00/30.4M [00:00<?, ?B/s]"
            ],
            "application/vnd.jupyter.widget-view+json": {
              "version_major": 2,
              "version_minor": 0,
              "model_id": "19c7e1eca2ba4427928f681df56b5e28"
            }
          },
          "metadata": {}
        },
        {
          "output_type": "display_data",
          "data": {
            "text/plain": [
              "Extracting data files:   0%|          | 0/1 [00:00<?, ?it/s]"
            ],
            "application/vnd.jupyter.widget-view+json": {
              "version_major": 2,
              "version_minor": 0,
              "model_id": "bfbb7e6af6c84bca9f6e40f65506b460"
            }
          },
          "metadata": {}
        },
        {
          "output_type": "display_data",
          "data": {
            "text/plain": [
              "Generating train split: 0 examples [00:00, ? examples/s]"
            ],
            "application/vnd.jupyter.widget-view+json": {
              "version_major": 2,
              "version_minor": 0,
              "model_id": "22cd27686e314fa8bf8eb020cbd97ebb"
            }
          },
          "metadata": {}
        }
      ]
    },
    {
      "cell_type": "code",
      "execution_count": null,
      "metadata": {
        "id": "KOdj4zjTLSR5"
      },
      "outputs": [],
      "source": [
        "def filter_dataset(dataset, seq_max_length):\n",
        "    # making subsequences of length 100\n",
        "    filtered_rows = []\n",
        "\n",
        "    for index, row in dataset.iterrows():\n",
        "        input_string = row[\"input\"]\n",
        "        dssp3_string = row[\"dssp3\"]\n",
        "        dssp8_string = row[\"dssp8\"]\n",
        "\n",
        "        x_positions = [pos for pos, char in enumerate(input_string) if char == 'X']\n",
        "        o_positions = [pos for pos, char in enumerate(input_string) if char == 'O']\n",
        "\n",
        "        if not (x_positions or o_positions):\n",
        "            n = int(len(input_string)/seq_max_length) # Number of substrings created\n",
        "            for i in range(n):\n",
        "                start = i * seq_max_length\n",
        "                stop = start + seq_max_length\n",
        "\n",
        "                new_row = {\n",
        "                    \"input\": input_string[start:stop],\n",
        "                    \"dssp3\": dssp3_string[start:stop],\n",
        "                    \"dssp8\": dssp8_string[start:stop]\n",
        "                }\n",
        "\n",
        "                filtered_rows.append(new_row)\n",
        "        else:\n",
        "            occurrences = sorted(x_positions + o_positions)\n",
        "\n",
        "            start_idx = 0  # First non \"X\" or \"O\"\n",
        "            for i in occurrences:\n",
        "                if i - start_idx >= seq_max_length:\n",
        "                    n = int((i - start_idx)/seq_max_length)\n",
        "                    for j in range(n):\n",
        "                        start = j*seq_max_length + start_idx\n",
        "                        stop = start + seq_max_length\n",
        "\n",
        "                        new_row = {\n",
        "                            \"input\": input_string[start:stop],\n",
        "                            \"dssp3\": dssp3_string[start:stop],\n",
        "                            \"dssp8\": dssp8_string[start:stop]\n",
        "                        }\n",
        "\n",
        "                        filtered_rows.append(new_row)\n",
        "                start_idx = i + 1\n",
        "\n",
        "            # Check for the remaining substring at the end of the input string\n",
        "            if len(input_string) - start_idx >= seq_max_length:\n",
        "                n = int((len(input_string) - start_idx)/seq_max_length)\n",
        "                for j in range(n):\n",
        "                    start = j*seq_max_length + start_idx\n",
        "                    stop = start + seq_max_length\n",
        "\n",
        "                    new_row = {\n",
        "                        \"input\": input_string[start:stop],\n",
        "                        \"dssp3\": dssp3_string[start:stop],\n",
        "                        \"dssp8\": dssp8_string[start:stop]\n",
        "                    }\n",
        "\n",
        "                    filtered_rows.append(new_row)\n",
        "\n",
        "\n",
        "    df = pd.concat([pd.DataFrame([row]) for row in filtered_rows], ignore_index=True)\n",
        "    return df"
      ]
    },
    {
      "cell_type": "code",
      "source": [
        "df = filter_dataset(dataset, seq_max_length)"
      ],
      "metadata": {
        "id": "EIodO8DWBW_0"
      },
      "execution_count": null,
      "outputs": []
    },
    {
      "cell_type": "code",
      "source": [
        "df = df[:3000]  # Adjust to available memory\n",
        "\n",
        "X_proteins = df[\"input\"]\n",
        "y_seq = df[\"dssp3\"]  # Can be changed to \"dssp8\""
      ],
      "metadata": {
        "id": "xWsymji70ldq"
      },
      "execution_count": null,
      "outputs": []
    },
    {
      "cell_type": "markdown",
      "metadata": {
        "id": "K3s2sMbSTvZ7"
      },
      "source": [
        "## Making amino acid sequences into dna sequences"
      ]
    },
    {
      "cell_type": "code",
      "execution_count": null,
      "metadata": {
        "id": "NQJH0S1ZNfkX"
      },
      "outputs": [],
      "source": [
        "import random\n",
        "\n",
        "def protein_to_rna(protein_sequence):\n",
        "    amino_acid_to_codons = {\n",
        "        \"A\": [\"GCU\", \"GCC\", \"GCA\", \"GCG\"],\n",
        "        \"R\": [\"CGU\", \"CGC\", \"CGA\", \"CGG\", \"AGA\", \"AGG\"],\n",
        "        \"N\": [\"AAU\", \"AAC\"],\n",
        "        \"D\": [\"GAU\", \"GAC\"],\n",
        "        \"B\": [\"AAU\", \"AAC\", \"GAU\", \"GAC\"],\n",
        "        \"C\": [\"UGU\", \"UGC\"],\n",
        "        \"Q\": [\"CAA\", \"CAG\"],\n",
        "        \"E\": [\"GAA\", \"GAG\"],\n",
        "        \"Z\": [\"CAA\", \"CAG\", \"GAA\", \"GAG\"],\n",
        "        \"G\": [\"GGU\", \"GGC\", \"GGA\", \"GGG\"],\n",
        "        \"H\": [\"CAU\", \"CAC\"],\n",
        "        \"I\": [\"AUU\", \"AUC\", \"AUA\"],\n",
        "        \"L\": [\"CUU\", \"CUC\", \"CUA\", \"CUG\", \"UUA\", \"UUG\"],\n",
        "        \"K\": [\"AAA\", \"AAG\"],\n",
        "        \"M\": [\"AUG\"],\n",
        "        \"F\": [\"UUU\", \"UUC\"],\n",
        "        \"P\": [\"CCU\", \"CCC\", \"CCA\", \"CCG\"],\n",
        "        \"S\": [\"UCU\", \"UCC\", \"UCA\", \"UCG\", \"AGU\", \"AGC\"],\n",
        "        \"T\": [\"ACU\", \"ACC\", \"ACA\", \"ACG\"],\n",
        "        \"W\": [\"UGG\"],\n",
        "        \"Y\": [\"UAU\", \"UAC\"],\n",
        "        \"V\": [\"GUU\", \"GUC\", \"GUA\", \"GUG\"],\n",
        "        \"U\": [\"UGA\"],\n",
        "    }\n",
        "\n",
        "    # Converts protein sequence to RNA sequence\n",
        "    rna_sequence = ''\n",
        "    for amino_acid in protein_sequence:\n",
        "        codons = amino_acid_to_codons.get(amino_acid)\n",
        "        # rna_sequence += codons[random.randint(0, len(codons)-1)]  # Chose codon\n",
        "        rna_sequence += codons[0]\n",
        "\n",
        "    return rna_sequence"
      ]
    },
    {
      "cell_type": "code",
      "source": [
        "X_rna = [protein_to_rna(protein) for protein in X_proteins]"
      ],
      "metadata": {
        "id": "0RGrZhAGJzeF"
      },
      "execution_count": null,
      "outputs": []
    },
    {
      "cell_type": "code",
      "execution_count": null,
      "metadata": {
        "id": "eQRAWFLYhVHr"
      },
      "outputs": [],
      "source": [
        "def rna_to_dna(rna_sequence):\n",
        "    rna_to_dna_base_pairs = {'A': 'T', 'U': 'A', 'C': 'G', 'G': 'C'}\n",
        "\n",
        "    # Convert RNA sequence to complementary DNA sequence\n",
        "    dna_sequence = ''.join(rna_to_dna_base_pairs.get(base) for base in rna_sequence)\n",
        "\n",
        "    return dna_sequence"
      ]
    },
    {
      "cell_type": "code",
      "source": [
        "X_dna = [rna_to_dna(rna_sequence) for rna_sequence in X_rna]"
      ],
      "metadata": {
        "id": "Bn2qjDJ0KqN0"
      },
      "execution_count": null,
      "outputs": []
    },
    {
      "cell_type": "markdown",
      "metadata": {
        "id": "FfBLw1_UeczR"
      },
      "source": [
        "##Tokenizing and retrieving embeddings"
      ]
    },
    {
      "cell_type": "code",
      "execution_count": null,
      "metadata": {
        "id": "vcGtXfSwDf5W"
      },
      "outputs": [],
      "source": [
        "batch_size = 8 # Adjust to available memory\n",
        "\n",
        "def get_6mers_embeddings(sequences: list, batch_size: int):\n",
        "    embeddings = []  # Stores 6mers embeddings\n",
        "\n",
        "    # Split sequences into batches\n",
        "    batched_sequences = [sequences[i:i + batch_size] for i in range(0, len(sequences), batch_size)]\n",
        "\n",
        "    random_key = jax.random.PRNGKey(0)\n",
        "    extraction_layer = \"embeddings_\" + str(embeddings_layer)\n",
        "    cls_token_position = 0 # Position of the CLS token for every sequence\n",
        "\n",
        "    for batch in batched_sequences:\n",
        "        # Tokenize the batch\n",
        "        tokens_ids = [b[1] for b in tokenizer.batch_tokenize(batch)]\n",
        "        tokens = jnp.asarray(tokens_ids, dtype=jnp.int32)\n",
        "\n",
        "        # Infer\n",
        "        outs = forward_fn.apply(parameters, random_key, tokens)\n",
        "\n",
        "        # Get embeddings\n",
        "        batch_embeddings = outs[extraction_layer]\n",
        "\n",
        "        # Mask for padding tokens\n",
        "        padding_mask = (tokens != tokenizer.pad_token_id) & (jnp.arange(tokens.shape[1]) != cls_token_position)\n",
        "\n",
        "        # Element-wise multiplication to set embeddings corresponding to padding tokens to zero\n",
        "        masked_embeddings = batch_embeddings * padding_mask[:, :, None]\n",
        "\n",
        "        # Removing embeddings relative to CLS and padding tokens\n",
        "        sum_embeddings = jnp.sum(masked_embeddings, axis=-1)\n",
        "        non_zero_mask = sum_embeddings != 0.0\n",
        "        non_zero_embeddings = masked_embeddings[non_zero_mask]\n",
        "\n",
        "        embeddings.append(non_zero_embeddings)\n",
        "\n",
        "\n",
        "    return jnp.concatenate(embeddings, axis=0)"
      ]
    },
    {
      "cell_type": "code",
      "source": [
        "X = get_6mers_embeddings(X_dna, batch_size)"
      ],
      "metadata": {
        "id": "GUK6HL6IODhq"
      },
      "execution_count": null,
      "outputs": []
    },
    {
      "cell_type": "code",
      "execution_count": null,
      "metadata": {
        "id": "1fAXMrwcF0ae"
      },
      "outputs": [],
      "source": [
        "conc_y = ''.join(y_seq) # Concatenated sequences of target dna\n",
        "y = [conc_y[i] + conc_y[i+1] for i in range(0, len(conc_y), 2)]  # Cartesian product of classes"
      ]
    },
    {
      "cell_type": "code",
      "source": [
        "X2 = []\n",
        "y2 = []\n",
        "for i in range(0, len(X), 100):\n",
        "    X2.append(X[i+10:i+90])\n",
        "    y2.append(y[i+10:i+90])\n",
        "\n",
        "X = jnp.concatenate(X2, axis=0)\n",
        "%reset X2\n",
        "y = [item for sublist in y2 for item in sublist]"
      ],
      "metadata": {
        "id": "te9q2_z-OGoS",
        "colab": {
          "base_uri": "https://localhost:8080/"
        },
        "outputId": "546b0b0c-5949-4aab-cc2f-4d1c2427c20f"
      },
      "execution_count": null,
      "outputs": [
        {
          "output_type": "stream",
          "name": "stdout",
          "text": [
            "Once deleted, variables cannot be recovered. Proceed (y/[n])? y\n",
            "Don't know how to reset  x2, please run `%reset?` for details\n"
          ]
        }
      ]
    },
    {
      "cell_type": "markdown",
      "source": [
        "## Storing embeddings - labels"
      ],
      "metadata": {
        "id": "MgjSb-7PsWvb"
      }
    },
    {
      "cell_type": "code",
      "source": [
        "from google.colab import drive\n",
        "import pickle\n",
        "\n",
        "# Mount Google Drive\n",
        "drive.mount('/content/drive')\n",
        "\n",
        "# Create a folder in the root directory\n",
        "!mkdir -p \"/content/drive/My Drive/data\"\n",
        "\n",
        "with open('/content/drive/My Drive/data/X5.pkl', 'wb') as f: # Storing embeddings\n",
        "  pickle.dump(X, f)\n",
        "\n",
        "with open('/content/drive/My Drive/data/y5.pkl', 'wb') as f: # Storing labels\n",
        "  pickle.dump(y, f)"
      ],
      "metadata": {
        "id": "QtETGUnhsaku",
        "colab": {
          "base_uri": "https://localhost:8080/"
        },
        "outputId": "991d6fd9-9f4c-4e40-f1bc-a8bcd846782b"
      },
      "execution_count": null,
      "outputs": [
        {
          "output_type": "stream",
          "name": "stdout",
          "text": [
            "Drive already mounted at /content/drive; to attempt to forcibly remount, call drive.mount(\"/content/drive\", force_remount=True).\n"
          ]
        }
      ]
    },
    {
      "cell_type": "markdown",
      "metadata": {
        "id": "jMXS9ploHN5s"
      },
      "source": [
        "## Downstream task, using left and right classifiers"
      ]
    },
    {
      "cell_type": "code",
      "source": [
        "from google.colab import drive\n",
        "# Mount Google Drive\n",
        "drive.mount('/content/drive')"
      ],
      "metadata": {
        "colab": {
          "base_uri": "https://localhost:8080/"
        },
        "id": "jDJCVWR1vA6b",
        "outputId": "4b7b6efc-4362-4e36-9bdd-bf14d3ffe058"
      },
      "execution_count": null,
      "outputs": [
        {
          "output_type": "stream",
          "name": "stdout",
          "text": [
            "Drive already mounted at /content/drive; to attempt to forcibly remount, call drive.mount(\"/content/drive\", force_remount=True).\n"
          ]
        }
      ]
    },
    {
      "cell_type": "code",
      "source": [
        "import pickle\n",
        "# Loading data from drive\n",
        "with open('/content/drive/My Drive/data/X5.pkl', 'rb') as f:\n",
        "    X = pickle.load(f)\n",
        "\n",
        "with open('/content/drive/My Drive/data/y5.pkl', 'rb') as f:\n",
        "    y = pickle.load(f)"
      ],
      "metadata": {
        "id": "aRbYP0vyt2ti"
      },
      "execution_count": null,
      "outputs": []
    },
    {
      "cell_type": "code",
      "execution_count": null,
      "metadata": {
        "id": "NXJCB5fcHee_"
      },
      "outputs": [],
      "source": [
        "import lightgbm as lgb\n",
        "from sklearn.model_selection import train_test_split\n",
        "from sklearn.metrics import accuracy_score\n",
        "import matplotlib.pyplot as plt\n",
        "from sklearn.metrics import confusion_matrix, ConfusionMatrixDisplay\n",
        "\n",
        "X_train, X_test, y_train, y_test = train_test_split(X, y, test_size=0.33, random_state=0)\n",
        "\n",
        "params = {\n",
        "    'objective': 'multiclass',  # 'multiclass' for multi-class classification\n",
        "    'metric': 'multi_error',\n",
        "    'num_leaves': 31,\n",
        "    'learning_rate': 0.05,\n",
        "    'feature_fraction': 0.9\n",
        "}"
      ]
    },
    {
      "cell_type": "code",
      "source": [
        "# Left classifier\n",
        "l_y_train = [item[0] for item in y_train]\n",
        "l_y_test = [item[0] for item in y_test]\n",
        "\n",
        "l_clf = lgb.LGBMClassifier(**params)\n",
        "l_clf.fit(X_train, l_y_train)\n",
        "\n",
        "l_y_pred = l_clf.predict(X_test)\n",
        "accuracy = accuracy_score(l_y_test, l_y_pred)\n",
        "print(f\"Accuracy: {accuracy:.2f}\")\n",
        "\n",
        "l_cm = confusion_matrix(l_y_test, l_y_pred, labels= [\"C\", \"H\", \"E\"])\n",
        "l_disp = ConfusionMatrixDisplay(confusion_matrix=l_cm, display_labels=[\"C\", \"H\", \"E\"])\n",
        "l_disp.plot()\n",
        "plt.show()"
      ],
      "metadata": {
        "colab": {
          "base_uri": "https://localhost:8080/",
          "height": 640
        },
        "id": "XeZ1CbXZIMTl",
        "outputId": "92e178bb-3b8f-42aa-d200-4835c07e30bc"
      },
      "execution_count": null,
      "outputs": [
        {
          "output_type": "stream",
          "name": "stdout",
          "text": [
            "[LightGBM] [Warning] feature_fraction is set=0.9, colsample_bytree=1.0 will be ignored. Current value: feature_fraction=0.9\n",
            "[LightGBM] [Warning] feature_fraction is set=0.9, colsample_bytree=1.0 will be ignored. Current value: feature_fraction=0.9\n",
            "[LightGBM] [Info] Auto-choosing col-wise multi-threading, the overhead of testing was 7.383072 seconds.\n",
            "You can set `force_col_wise=true` to remove the overhead.\n",
            "[LightGBM] [Info] Total Bins 326400\n",
            "[LightGBM] [Info] Number of data points in the train set: 160800, number of used features: 1280\n",
            "[LightGBM] [Info] Start training from score -0.900190\n",
            "[LightGBM] [Info] Start training from score -1.512602\n",
            "[LightGBM] [Info] Start training from score -0.985717\n",
            "[LightGBM] [Warning] feature_fraction is set=0.9, colsample_bytree=1.0 will be ignored. Current value: feature_fraction=0.9\n",
            "Accuracy: 0.54\n"
          ]
        },
        {
          "output_type": "display_data",
          "data": {
            "text/plain": [
              "<Figure size 640x480 with 2 Axes>"
            ],
            "image/png": "[encoded data removed]"
          },
          "metadata": {}
        }
      ]
    },
    {
      "cell_type": "code",
      "source": [
        "# right classifier\n",
        "r_y_train = [item[1] for item in y_train]\n",
        "r_y_test = [item[1] for item in y_test]\n",
        "\n",
        "r_clf = lgb.LGBMClassifier(**params)\n",
        "r_clf.fit(X_train, r_y_train)\n",
        "\n",
        "r_y_pred = r_clf.predict(X_test)\n",
        "accuracy = accuracy_score(r_y_test, r_y_pred)\n",
        "print(f\"Accuracy: {accuracy:.2f}\")\n",
        "\n",
        "r_cm = confusion_matrix(r_y_test, r_y_pred, labels= [\"C\", \"H\", \"E\"])\n",
        "r_disp = ConfusionMatrixDisplay(confusion_matrix=r_cm, display_labels=[\"C\", \"H\", \"E\"])\n",
        "r_disp.plot()\n",
        "plt.show()"
      ],
      "metadata": {
        "colab": {
          "base_uri": "https://localhost:8080/",
          "height": 640
        },
        "id": "pIiBzkv4J_ud",
        "outputId": "d546ea2a-0df6-478d-9430-f53d5f715db9"
      },
      "execution_count": null,
      "outputs": [
        {
          "output_type": "stream",
          "name": "stdout",
          "text": [
            "[LightGBM] [Warning] feature_fraction is set=0.9, colsample_bytree=1.0 will be ignored. Current value: feature_fraction=0.9\n",
            "[LightGBM] [Warning] feature_fraction is set=0.9, colsample_bytree=1.0 will be ignored. Current value: feature_fraction=0.9\n",
            "[LightGBM] [Info] Auto-choosing col-wise multi-threading, the overhead of testing was 6.282065 seconds.\n",
            "You can set `force_col_wise=true` to remove the overhead.\n",
            "[LightGBM] [Info] Total Bins 326400\n",
            "[LightGBM] [Info] Number of data points in the train set: 160800, number of used features: 1280\n",
            "[LightGBM] [Info] Start training from score -0.900970\n",
            "[LightGBM] [Info] Start training from score -1.513280\n",
            "[LightGBM] [Info] Start training from score -0.984468\n",
            "[LightGBM] [Warning] feature_fraction is set=0.9, colsample_bytree=1.0 will be ignored. Current value: feature_fraction=0.9\n",
            "Accuracy: 0.53\n"
          ]
        },
        {
          "output_type": "display_data",
          "data": {
            "text/plain": [
              "<Figure size 640x480 with 2 Axes>"
            ],
            "image/png": "[encoded data removed]"
          },
          "metadata": {}
        }
      ]
    },
    {
      "cell_type": "markdown",
      "source": [
        "## Confusion matrix on training data"
      ],
      "metadata": {
        "id": "DK6nYUAjVnyl"
      }
    },
    {
      "cell_type": "code",
      "source": [
        "l_train_pred = l_clf.predict(X_train)\n",
        "accuracy = accuracy_score(l_y_train, l_train_pred)\n",
        "print(f\"Accuracy: {accuracy:.2f}\")\n",
        "\n",
        "l_train_cm = confusion_matrix(l_y_test, l_y_pred, labels= [\"C\", \"H\", \"E\"])\n",
        "l_train_disp = ConfusionMatrixDisplay(confusion_matrix=l_train_cm, display_labels=[\"C\", \"H\", \"E\"])\n",
        "l_train_disp.plot()\n",
        "plt.show()"
      ],
      "metadata": {
        "colab": {
          "base_uri": "https://localhost:8080/",
          "height": 484
        },
        "id": "-ix426kQVrbA",
        "outputId": "c21c8586-cd28-41db-ad0e-34e7e034e3a4"
      },
      "execution_count": null,
      "outputs": [
        {
          "output_type": "stream",
          "name": "stdout",
          "text": [
            "[LightGBM] [Warning] feature_fraction is set=0.9, colsample_bytree=1.0 will be ignored. Current value: feature_fraction=0.9\n",
            "Accuracy: 0.58\n"
          ]
        },
        {
          "output_type": "display_data",
          "data": {
            "text/plain": [
              "<Figure size 640x480 with 2 Axes>"
            ],
            "image/png": "[encoded data removed]"
          },
          "metadata": {}
        }
      ]
    }
  ],
  "metadata": {
    "colab": {
      "provenance": [],
      "gpuType": "T4"
    },
    "kernelspec": {
      "display_name": "Python 3",
      "name": "python3"
    },
    "language_info": {
      "name": "python"
    },
    "accelerator": "GPU",
    "widgets": {
      "application/vnd.jupyter.widget-state+json": {
        "1db29c073d824517984328091d315f25": {
          "model_module": "@jupyter-widgets/controls",
          "model_name": "HBoxModel",
          "model_module_version": "1.5.0",
          "state": {
            "_dom_classes": [],
            "_model_module": "@jupyter-widgets/controls",
            "_model_module_version": "1.5.0",
            "_model_name": "HBoxModel",
            "_view_count": null,
            "_view_module": "@jupyter-widgets/controls",
            "_view_module_version": "1.5.0",
            "_view_name": "HBoxView",
            "box_style": "",
            "children": [
              "IPY_MODEL_7a3cba216aa84f6db0d49042a5803f0b",
              "IPY_MODEL_549995915beb4a768987c9951fb68b0b",
              "IPY_MODEL_c48eac703baa46aca337a212ce43c545"
            ],
            "layout": "IPY_MODEL_7748453f4f1d4934adb2f92260953951"
          }
        },
        "7a3cba216aa84f6db0d49042a5803f0b": {
          "model_module": "@jupyter-widgets/controls",
          "model_name": "HTMLModel",
          "model_module_version": "1.5.0",
          "state": {
            "_dom_classes": [],
            "_model_module": "@jupyter-widgets/controls",
            "_model_module_version": "1.5.0",
            "_model_name": "HTMLModel",
            "_view_count": null,
            "_view_module": "@jupyter-widgets/controls",
            "_view_module_version": "1.5.0",
            "_view_name": "HTMLView",
            "description": "",
            "description_tooltip": null,
            "layout": "IPY_MODEL_3a1877f6797e4c63b3e7ab6b3bb50060",
            "placeholder": "​",
            "style": "IPY_MODEL_220dd0d1a9f2475c937b557b0baede84",
            "value": "Downloading data files: 100%"
          }
        },
        "549995915beb4a768987c9951fb68b0b": {
          "model_module": "@jupyter-widgets/controls",
          "model_name": "FloatProgressModel",
          "model_module_version": "1.5.0",
          "state": {
            "_dom_classes": [],
            "_model_module": "@jupyter-widgets/controls",
            "_model_module_version": "1.5.0",
            "_model_name": "FloatProgressModel",
            "_view_count": null,
            "_view_module": "@jupyter-widgets/controls",
            "_view_module_version": "1.5.0",
            "_view_name": "ProgressView",
            "bar_style": "success",
            "description": "",
            "description_tooltip": null,
            "layout": "IPY_MODEL_ec66ad876bba43929388db769e423725",
            "max": 1,
            "min": 0,
            "orientation": "horizontal",
            "style": "IPY_MODEL_138ecf4227ed46349caa755d0348cf17",
            "value": 1
          }
        },
        "c48eac703baa46aca337a212ce43c545": {
          "model_module": "@jupyter-widgets/controls",
          "model_name": "HTMLModel",
          "model_module_version": "1.5.0",
          "state": {
            "_dom_classes": [],
            "_model_module": "@jupyter-widgets/controls",
            "_model_module_version": "1.5.0",
            "_model_name": "HTMLModel",
            "_view_count": null,
            "_view_module": "@jupyter-widgets/controls",
            "_view_module_version": "1.5.0",
            "_view_name": "HTMLView",
            "description": "",
            "description_tooltip": null,
            "layout": "IPY_MODEL_55027088e76c42aeb1de5e73eb7f15ba",
            "placeholder": "​",
            "style": "IPY_MODEL_fa0bdc665e51457083cdd174c63f834f",
            "value": " 1/1 [00:02&lt;00:00,  2.80s/it]"
          }
        },
        "7748453f4f1d4934adb2f92260953951": {
          "model_module": "@jupyter-widgets/base",
          "model_name": "LayoutModel",
          "model_module_version": "1.2.0",
          "state": {
            "_model_module": "@jupyter-widgets/base",
            "_model_module_version": "1.2.0",
            "_model_name": "LayoutModel",
            "_view_count": null,
            "_view_module": "@jupyter-widgets/base",
            "_view_module_version": "1.2.0",
            "_view_name": "LayoutView",
            "align_content": null,
            "align_items": null,
            "align_self": null,
            "border": null,
            "bottom": null,
            "display": null,
            "flex": null,
            "flex_flow": null,
            "grid_area": null,
            "grid_auto_columns": null,
            "grid_auto_flow": null,
            "grid_auto_rows": null,
            "grid_column": null,
            "grid_gap": null,
            "grid_row": null,
            "grid_template_areas": null,
            "grid_template_columns": null,
            "grid_template_rows": null,
            "height": null,
            "justify_content": null,
            "justify_items": null,
            "left": null,
            "margin": null,
            "max_height": null,
            "max_width": null,
            "min_height": null,
            "min_width": null,
            "object_fit": null,
            "object_position": null,
            "order": null,
            "overflow": null,
            "overflow_x": null,
            "overflow_y": null,
            "padding": null,
            "right": null,
            "top": null,
            "visibility": null,
            "width": null
          }
        },
        "3a1877f6797e4c63b3e7ab6b3bb50060": {
          "model_module": "@jupyter-widgets/base",
          "model_name": "LayoutModel",
          "model_module_version": "1.2.0",
          "state": {
            "_model_module": "@jupyter-widgets/base",
            "_model_module_version": "1.2.0",
            "_model_name": "LayoutModel",
            "_view_count": null,
            "_view_module": "@jupyter-widgets/base",
            "_view_module_version": "1.2.0",
            "_view_name": "LayoutView",
            "align_content": null,
            "align_items": null,
            "align_self": null,
            "border": null,
            "bottom": null,
            "display": null,
            "flex": null,
            "flex_flow": null,
            "grid_area": null,
            "grid_auto_columns": null,
            "grid_auto_flow": null,
            "grid_auto_rows": null,
            "grid_column": null,
            "grid_gap": null,
            "grid_row": null,
            "grid_template_areas": null,
            "grid_template_columns": null,
            "grid_template_rows": null,
            "height": null,
            "justify_content": null,
            "justify_items": null,
            "left": null,
            "margin": null,
            "max_height": null,
            "max_width": null,
            "min_height": null,
            "min_width": null,
            "object_fit": null,
            "object_position": null,
            "order": null,
            "overflow": null,
            "overflow_x": null,
            "overflow_y": null,
            "padding": null,
            "right": null,
            "top": null,
            "visibility": null,
            "width": null
          }
        },
        "220dd0d1a9f2475c937b557b0baede84": {
          "model_module": "@jupyter-widgets/controls",
          "model_name": "DescriptionStyleModel",
          "model_module_version": "1.5.0",
          "state": {
            "_model_module": "@jupyter-widgets/controls",
            "_model_module_version": "1.5.0",
            "_model_name": "DescriptionStyleModel",
            "_view_count": null,
            "_view_module": "@jupyter-widgets/base",
            "_view_module_version": "1.2.0",
            "_view_name": "StyleView",
            "description_width": ""
          }
        },
        "ec66ad876bba43929388db769e423725": {
          "model_module": "@jupyter-widgets/base",
          "model_name": "LayoutModel",
          "model_module_version": "1.2.0",
          "state": {
            "_model_module": "@jupyter-widgets/base",
            "_model_module_version": "1.2.0",
            "_model_name": "LayoutModel",
            "_view_count": null,
            "_view_module": "@jupyter-widgets/base",
            "_view_module_version": "1.2.0",
            "_view_name": "LayoutView",
            "align_content": null,
            "align_items": null,
            "align_self": null,
            "border": null,
            "bottom": null,
            "display": null,
            "flex": null,
            "flex_flow": null,
            "grid_area": null,
            "grid_auto_columns": null,
            "grid_auto_flow": null,
            "grid_auto_rows": null,
            "grid_column": null,
            "grid_gap": null,
            "grid_row": null,
            "grid_template_areas": null,
            "grid_template_columns": null,
            "grid_template_rows": null,
            "height": null,
            "justify_content": null,
            "justify_items": null,
            "left": null,
            "margin": null,
            "max_height": null,
            "max_width": null,
            "min_height": null,
            "min_width": null,
            "object_fit": null,
            "object_position": null,
            "order": null,
            "overflow": null,
            "overflow_x": null,
            "overflow_y": null,
            "padding": null,
            "right": null,
            "top": null,
            "visibility": null,
            "width": null
          }
        },
        "138ecf4227ed46349caa755d0348cf17": {
          "model_module": "@jupyter-widgets/controls",
          "model_name": "ProgressStyleModel",
          "model_module_version": "1.5.0",
          "state": {
            "_model_module": "@jupyter-widgets/controls",
            "_model_module_version": "1.5.0",
            "_model_name": "ProgressStyleModel",
            "_view_count": null,
            "_view_module": "@jupyter-widgets/base",
            "_view_module_version": "1.2.0",
            "_view_name": "StyleView",
            "bar_color": null,
            "description_width": ""
          }
        },
        "55027088e76c42aeb1de5e73eb7f15ba": {
          "model_module": "@jupyter-widgets/base",
          "model_name": "LayoutModel",
          "model_module_version": "1.2.0",
          "state": {
            "_model_module": "@jupyter-widgets/base",
            "_model_module_version": "1.2.0",
            "_model_name": "LayoutModel",
            "_view_count": null,
            "_view_module": "@jupyter-widgets/base",
            "_view_module_version": "1.2.0",
            "_view_name": "LayoutView",
            "align_content": null,
            "align_items": null,
            "align_self": null,
            "border": null,
            "bottom": null,
            "display": null,
            "flex": null,
            "flex_flow": null,
            "grid_area": null,
            "grid_auto_columns": null,
            "grid_auto_flow": null,
            "grid_auto_rows": null,
            "grid_column": null,
            "grid_gap": null,
            "grid_row": null,
            "grid_template_areas": null,
            "grid_template_columns": null,
            "grid_template_rows": null,
            "height": null,
            "justify_content": null,
            "justify_items": null,
            "left": null,
            "margin": null,
            "max_height": null,
            "max_width": null,
            "min_height": null,
            "min_width": null,
            "object_fit": null,
            "object_position": null,
            "order": null,
            "overflow": null,
            "overflow_x": null,
            "overflow_y": null,
            "padding": null,
            "right": null,
            "top": null,
            "visibility": null,
            "width": null
          }
        },
        "fa0bdc665e51457083cdd174c63f834f": {
          "model_module": "@jupyter-widgets/controls",
          "model_name": "DescriptionStyleModel",
          "model_module_version": "1.5.0",
          "state": {
            "_model_module": "@jupyter-widgets/controls",
            "_model_module_version": "1.5.0",
            "_model_name": "DescriptionStyleModel",
            "_view_count": null,
            "_view_module": "@jupyter-widgets/base",
            "_view_module_version": "1.2.0",
            "_view_name": "StyleView",
            "description_width": ""
          }
        },
        "19c7e1eca2ba4427928f681df56b5e28": {
          "model_module": "@jupyter-widgets/controls",
          "model_name": "HBoxModel",
          "model_module_version": "1.5.0",
          "state": {
            "_dom_classes": [],
            "_model_module": "@jupyter-widgets/controls",
            "_model_module_version": "1.5.0",
            "_model_name": "HBoxModel",
            "_view_count": null,
            "_view_module": "@jupyter-widgets/controls",
            "_view_module_version": "1.5.0",
            "_view_name": "HBoxView",
            "box_style": "",
            "children": [
              "IPY_MODEL_775fd0ce0d27455aa0fb208a91c7ca95",
              "IPY_MODEL_6993fe36a8164e92a38539226d90344d",
              "IPY_MODEL_91fc53d891db417787b9f364ebb264d4"
            ],
            "layout": "IPY_MODEL_fda15f18e7aa4e8d84b0516542953af0"
          }
        },
        "775fd0ce0d27455aa0fb208a91c7ca95": {
          "model_module": "@jupyter-widgets/controls",
          "model_name": "HTMLModel",
          "model_module_version": "1.5.0",
          "state": {
            "_dom_classes": [],
            "_model_module": "@jupyter-widgets/controls",
            "_model_module_version": "1.5.0",
            "_model_name": "HTMLModel",
            "_view_count": null,
            "_view_module": "@jupyter-widgets/controls",
            "_view_module_version": "1.5.0",
            "_view_name": "HTMLView",
            "description": "",
            "description_tooltip": null,
            "layout": "IPY_MODEL_cf08aff0eb55428b9421d5fcd632c951",
            "placeholder": "​",
            "style": "IPY_MODEL_fdfff29dc9574f58895a53a9b96071f2",
            "value": "Downloading data: 100%"
          }
        },
        "6993fe36a8164e92a38539226d90344d": {
          "model_module": "@jupyter-widgets/controls",
          "model_name": "FloatProgressModel",
          "model_module_version": "1.5.0",
          "state": {
            "_dom_classes": [],
            "_model_module": "@jupyter-widgets/controls",
            "_model_module_version": "1.5.0",
            "_model_name": "FloatProgressModel",
            "_view_count": null,
            "_view_module": "@jupyter-widgets/controls",
            "_view_module_version": "1.5.0",
            "_view_name": "ProgressView",
            "bar_style": "success",
            "description": "",
            "description_tooltip": null,
            "layout": "IPY_MODEL_bb5db0d0d5f342a7adf449dd1286183a",
            "max": 30398497,
            "min": 0,
            "orientation": "horizontal",
            "style": "IPY_MODEL_ee292ce7e29344c7806c9538c06f7bd6",
            "value": 30398497
          }
        },
        "91fc53d891db417787b9f364ebb264d4": {
          "model_module": "@jupyter-widgets/controls",
          "model_name": "HTMLModel",
          "model_module_version": "1.5.0",
          "state": {
            "_dom_classes": [],
            "_model_module": "@jupyter-widgets/controls",
            "_model_module_version": "1.5.0",
            "_model_name": "HTMLModel",
            "_view_count": null,
            "_view_module": "@jupyter-widgets/controls",
            "_view_module_version": "1.5.0",
            "_view_name": "HTMLView",
            "description": "",
            "description_tooltip": null,
            "layout": "IPY_MODEL_eb26c8e0853146bcbf17f768d5ddf364",
            "placeholder": "​",
            "style": "IPY_MODEL_8ac55340c98a4ed4b39bf4d6e69430ca",
            "value": " 30.4M/30.4M [00:02&lt;00:00, 16.5MB/s]"
          }
        },
        "fda15f18e7aa4e8d84b0516542953af0": {
          "model_module": "@jupyter-widgets/base",
          "model_name": "LayoutModel",
          "model_module_version": "1.2.0",
          "state": {
            "_model_module": "@jupyter-widgets/base",
            "_model_module_version": "1.2.0",
            "_model_name": "LayoutModel",
            "_view_count": null,
            "_view_module": "@jupyter-widgets/base",
            "_view_module_version": "1.2.0",
            "_view_name": "LayoutView",
            "align_content": null,
            "align_items": null,
            "align_self": null,
            "border": null,
            "bottom": null,
            "display": null,
            "flex": null,
            "flex_flow": null,
            "grid_area": null,
            "grid_auto_columns": null,
            "grid_auto_flow": null,
            "grid_auto_rows": null,
            "grid_column": null,
            "grid_gap": null,
            "grid_row": null,
            "grid_template_areas": null,
            "grid_template_columns": null,
            "grid_template_rows": null,
            "height": null,
            "justify_content": null,
            "justify_items": null,
            "left": null,
            "margin": null,
            "max_height": null,
            "max_width": null,
            "min_height": null,
            "min_width": null,
            "object_fit": null,
            "object_position": null,
            "order": null,
            "overflow": null,
            "overflow_x": null,
            "overflow_y": null,
            "padding": null,
            "right": null,
            "top": null,
            "visibility": null,
            "width": null
          }
        },
        "cf08aff0eb55428b9421d5fcd632c951": {
          "model_module": "@jupyter-widgets/base",
          "model_name": "LayoutModel",
          "model_module_version": "1.2.0",
          "state": {
            "_model_module": "@jupyter-widgets/base",
            "_model_module_version": "1.2.0",
            "_model_name": "LayoutModel",
            "_view_count": null,
            "_view_module": "@jupyter-widgets/base",
            "_view_module_version": "1.2.0",
            "_view_name": "LayoutView",
            "align_content": null,
            "align_items": null,
            "align_self": null,
            "border": null,
            "bottom": null,
            "display": null,
            "flex": null,
            "flex_flow": null,
            "grid_area": null,
            "grid_auto_columns": null,
            "grid_auto_flow": null,
            "grid_auto_rows": null,
            "grid_column": null,
            "grid_gap": null,
            "grid_row": null,
            "grid_template_areas": null,
            "grid_template_columns": null,
            "grid_template_rows": null,
            "height": null,
            "justify_content": null,
            "justify_items": null,
            "left": null,
            "margin": null,
            "max_height": null,
            "max_width": null,
            "min_height": null,
            "min_width": null,
            "object_fit": null,
            "object_position": null,
            "order": null,
            "overflow": null,
            "overflow_x": null,
            "overflow_y": null,
            "padding": null,
            "right": null,
            "top": null,
            "visibility": null,
            "width": null
          }
        },
        "fdfff29dc9574f58895a53a9b96071f2": {
          "model_module": "@jupyter-widgets/controls",
          "model_name": "DescriptionStyleModel",
          "model_module_version": "1.5.0",
          "state": {
            "_model_module": "@jupyter-widgets/controls",
            "_model_module_version": "1.5.0",
            "_model_name": "DescriptionStyleModel",
            "_view_count": null,
            "_view_module": "@jupyter-widgets/base",
            "_view_module_version": "1.2.0",
            "_view_name": "StyleView",
            "description_width": ""
          }
        },
        "bb5db0d0d5f342a7adf449dd1286183a": {
          "model_module": "@jupyter-widgets/base",
          "model_name": "LayoutModel",
          "model_module_version": "1.2.0",
          "state": {
            "_model_module": "@jupyter-widgets/base",
            "_model_module_version": "1.2.0",
            "_model_name": "LayoutModel",
            "_view_count": null,
            "_view_module": "@jupyter-widgets/base",
            "_view_module_version": "1.2.0",
            "_view_name": "LayoutView",
            "align_content": null,
            "align_items": null,
            "align_self": null,
            "border": null,
            "bottom": null,
            "display": null,
            "flex": null,
            "flex_flow": null,
            "grid_area": null,
            "grid_auto_columns": null,
            "grid_auto_flow": null,
            "grid_auto_rows": null,
            "grid_column": null,
            "grid_gap": null,
            "grid_row": null,
            "grid_template_areas": null,
            "grid_template_columns": null,
            "grid_template_rows": null,
            "height": null,
            "justify_content": null,
            "justify_items": null,
            "left": null,
            "margin": null,
            "max_height": null,
            "max_width": null,
            "min_height": null,
            "min_width": null,
            "object_fit": null,
            "object_position": null,
            "order": null,
            "overflow": null,
            "overflow_x": null,
            "overflow_y": null,
            "padding": null,
            "right": null,
            "top": null,
            "visibility": null,
            "width": null
          }
        },
        "ee292ce7e29344c7806c9538c06f7bd6": {
          "model_module": "@jupyter-widgets/controls",
          "model_name": "ProgressStyleModel",
          "model_module_version": "1.5.0",
          "state": {
            "_model_module": "@jupyter-widgets/controls",
            "_model_module_version": "1.5.0",
            "_model_name": "ProgressStyleModel",
            "_view_count": null,
            "_view_module": "@jupyter-widgets/base",
            "_view_module_version": "1.2.0",
            "_view_name": "StyleView",
            "bar_color": null,
            "description_width": ""
          }
        },
        "eb26c8e0853146bcbf17f768d5ddf364": {
          "model_module": "@jupyter-widgets/base",
          "model_name": "LayoutModel",
          "model_module_version": "1.2.0",
          "state": {
            "_model_module": "@jupyter-widgets/base",
            "_model_module_version": "1.2.0",
            "_model_name": "LayoutModel",
            "_view_count": null,
            "_view_module": "@jupyter-widgets/base",
            "_view_module_version": "1.2.0",
            "_view_name": "LayoutView",
            "align_content": null,
            "align_items": null,
            "align_self": null,
            "border": null,
            "bottom": null,
            "display": null,
            "flex": null,
            "flex_flow": null,
            "grid_area": null,
            "grid_auto_columns": null,
            "grid_auto_flow": null,
            "grid_auto_rows": null,
            "grid_column": null,
            "grid_gap": null,
            "grid_row": null,
            "grid_template_areas": null,
            "grid_template_columns": null,
            "grid_template_rows": null,
            "height": null,
            "justify_content": null,
            "justify_items": null,
            "left": null,
            "margin": null,
            "max_height": null,
            "max_width": null,
            "min_height": null,
            "min_width": null,
            "object_fit": null,
            "object_position": null,
            "order": null,
            "overflow": null,
            "overflow_x": null,
            "overflow_y": null,
            "padding": null,
            "right": null,
            "top": null,
            "visibility": null,
            "width": null
          }
        },
        "8ac55340c98a4ed4b39bf4d6e69430ca": {
          "model_module": "@jupyter-widgets/controls",
          "model_name": "DescriptionStyleModel",
          "model_module_version": "1.5.0",
          "state": {
            "_model_module": "@jupyter-widgets/controls",
            "_model_module_version": "1.5.0",
            "_model_name": "DescriptionStyleModel",
            "_view_count": null,
            "_view_module": "@jupyter-widgets/base",
            "_view_module_version": "1.2.0",
            "_view_name": "StyleView",
            "description_width": ""
          }
        },
        "bfbb7e6af6c84bca9f6e40f65506b460": {
          "model_module": "@jupyter-widgets/controls",
          "model_name": "HBoxModel",
          "model_module_version": "1.5.0",
          "state": {
            "_dom_classes": [],
            "_model_module": "@jupyter-widgets/controls",
            "_model_module_version": "1.5.0",
            "_model_name": "HBoxModel",
            "_view_count": null,
            "_view_module": "@jupyter-widgets/controls",
            "_view_module_version": "1.5.0",
            "_view_name": "HBoxView",
            "box_style": "",
            "children": [
              "IPY_MODEL_48fe640071104b7a8486e67634c904c2",
              "IPY_MODEL_bf141c9b82cb4f8e8223d037814ffde6",
              "IPY_MODEL_c55e19fe41624c79920466dd84053143"
            ],
            "layout": "IPY_MODEL_d4bad4313ca4420ca21a1993245f2823"
          }
        },
        "48fe640071104b7a8486e67634c904c2": {
          "model_module": "@jupyter-widgets/controls",
          "model_name": "HTMLModel",
          "model_module_version": "1.5.0",
          "state": {
            "_dom_classes": [],
            "_model_module": "@jupyter-widgets/controls",
            "_model_module_version": "1.5.0",
            "_model_name": "HTMLModel",
            "_view_count": null,
            "_view_module": "@jupyter-widgets/controls",
            "_view_module_version": "1.5.0",
            "_view_name": "HTMLView",
            "description": "",
            "description_tooltip": null,
            "layout": "IPY_MODEL_3493710f0609453a8f00e3fe1f54c0a2",
            "placeholder": "​",
            "style": "IPY_MODEL_d031226760a24cb3a18e87eb47293f42",
            "value": "Extracting data files: 100%"
          }
        },
        "bf141c9b82cb4f8e8223d037814ffde6": {
          "model_module": "@jupyter-widgets/controls",
          "model_name": "FloatProgressModel",
          "model_module_version": "1.5.0",
          "state": {
            "_dom_classes": [],
            "_model_module": "@jupyter-widgets/controls",
            "_model_module_version": "1.5.0",
            "_model_name": "FloatProgressModel",
            "_view_count": null,
            "_view_module": "@jupyter-widgets/controls",
            "_view_module_version": "1.5.0",
            "_view_name": "ProgressView",
            "bar_style": "success",
            "description": "",
            "description_tooltip": null,
            "layout": "IPY_MODEL_7f05a9aa068d41bfbed0d004919612f2",
            "max": 1,
            "min": 0,
            "orientation": "horizontal",
            "style": "IPY_MODEL_f7f1f3c8e1894a2b87d2ba89e82d8a51",
            "value": 1
          }
        },
        "c55e19fe41624c79920466dd84053143": {
          "model_module": "@jupyter-widgets/controls",
          "model_name": "HTMLModel",
          "model_module_version": "1.5.0",
          "state": {
            "_dom_classes": [],
            "_model_module": "@jupyter-widgets/controls",
            "_model_module_version": "1.5.0",
            "_model_name": "HTMLModel",
            "_view_count": null,
            "_view_module": "@jupyter-widgets/controls",
            "_view_module_version": "1.5.0",
            "_view_name": "HTMLView",
            "description": "",
            "description_tooltip": null,
            "layout": "IPY_MODEL_8544b4d7429a48f4bfad3bf84812fcef",
            "placeholder": "​",
            "style": "IPY_MODEL_4ef2303a11af4746a4a4eb0071d5bdb3",
            "value": " 1/1 [00:00&lt;00:00,  6.19it/s]"
          }
        },
        "d4bad4313ca4420ca21a1993245f2823": {
          "model_module": "@jupyter-widgets/base",
          "model_name": "LayoutModel",
          "model_module_version": "1.2.0",
          "state": {
            "_model_module": "@jupyter-widgets/base",
            "_model_module_version": "1.2.0",
            "_model_name": "LayoutModel",
            "_view_count": null,
            "_view_module": "@jupyter-widgets/base",
            "_view_module_version": "1.2.0",
            "_view_name": "LayoutView",
            "align_content": null,
            "align_items": null,
            "align_self": null,
            "border": null,
            "bottom": null,
            "display": null,
            "flex": null,
            "flex_flow": null,
            "grid_area": null,
            "grid_auto_columns": null,
            "grid_auto_flow": null,
            "grid_auto_rows": null,
            "grid_column": null,
            "grid_gap": null,
            "grid_row": null,
            "grid_template_areas": null,
            "grid_template_columns": null,
            "grid_template_rows": null,
            "height": null,
            "justify_content": null,
            "justify_items": null,
            "left": null,
            "margin": null,
            "max_height": null,
            "max_width": null,
            "min_height": null,
            "min_width": null,
            "object_fit": null,
            "object_position": null,
            "order": null,
            "overflow": null,
            "overflow_x": null,
            "overflow_y": null,
            "padding": null,
            "right": null,
            "top": null,
            "visibility": null,
            "width": null
          }
        },
        "3493710f0609453a8f00e3fe1f54c0a2": {
          "model_module": "@jupyter-widgets/base",
          "model_name": "LayoutModel",
          "model_module_version": "1.2.0",
          "state": {
            "_model_module": "@jupyter-widgets/base",
            "_model_module_version": "1.2.0",
            "_model_name": "LayoutModel",
            "_view_count": null,
            "_view_module": "@jupyter-widgets/base",
            "_view_module_version": "1.2.0",
            "_view_name": "LayoutView",
            "align_content": null,
            "align_items": null,
            "align_self": null,
            "border": null,
            "bottom": null,
            "display": null,
            "flex": null,
            "flex_flow": null,
            "grid_area": null,
            "grid_auto_columns": null,
            "grid_auto_flow": null,
            "grid_auto_rows": null,
            "grid_column": null,
            "grid_gap": null,
            "grid_row": null,
            "grid_template_areas": null,
            "grid_template_columns": null,
            "grid_template_rows": null,
            "height": null,
            "justify_content": null,
            "justify_items": null,
            "left": null,
            "margin": null,
            "max_height": null,
            "max_width": null,
            "min_height": null,
            "min_width": null,
            "object_fit": null,
            "object_position": null,
            "order": null,
            "overflow": null,
            "overflow_x": null,
            "overflow_y": null,
            "padding": null,
            "right": null,
            "top": null,
            "visibility": null,
            "width": null
          }
        },
        "d031226760a24cb3a18e87eb47293f42": {
          "model_module": "@jupyter-widgets/controls",
          "model_name": "DescriptionStyleModel",
          "model_module_version": "1.5.0",
          "state": {
            "_model_module": "@jupyter-widgets/controls",
            "_model_module_version": "1.5.0",
            "_model_name": "DescriptionStyleModel",
            "_view_count": null,
            "_view_module": "@jupyter-widgets/base",
            "_view_module_version": "1.2.0",
            "_view_name": "StyleView",
            "description_width": ""
          }
        },
        "7f05a9aa068d41bfbed0d004919612f2": {
          "model_module": "@jupyter-widgets/base",
          "model_name": "LayoutModel",
          "model_module_version": "1.2.0",
          "state": {
            "_model_module": "@jupyter-widgets/base",
            "_model_module_version": "1.2.0",
            "_model_name": "LayoutModel",
            "_view_count": null,
            "_view_module": "@jupyter-widgets/base",
            "_view_module_version": "1.2.0",
            "_view_name": "LayoutView",
            "align_content": null,
            "align_items": null,
            "align_self": null,
            "border": null,
            "bottom": null,
            "display": null,
            "flex": null,
            "flex_flow": null,
            "grid_area": null,
            "grid_auto_columns": null,
            "grid_auto_flow": null,
            "grid_auto_rows": null,
            "grid_column": null,
            "grid_gap": null,
            "grid_row": null,
            "grid_template_areas": null,
            "grid_template_columns": null,
            "grid_template_rows": null,
            "height": null,
            "justify_content": null,
            "justify_items": null,
            "left": null,
            "margin": null,
            "max_height": null,
            "max_width": null,
            "min_height": null,
            "min_width": null,
            "object_fit": null,
            "object_position": null,
            "order": null,
            "overflow": null,
            "overflow_x": null,
            "overflow_y": null,
            "padding": null,
            "right": null,
            "top": null,
            "visibility": null,
            "width": null
          }
        },
        "f7f1f3c8e1894a2b87d2ba89e82d8a51": {
          "model_module": "@jupyter-widgets/controls",
          "model_name": "ProgressStyleModel",
          "model_module_version": "1.5.0",
          "state": {
            "_model_module": "@jupyter-widgets/controls",
            "_model_module_version": "1.5.0",
            "_model_name": "ProgressStyleModel",
            "_view_count": null,
            "_view_module": "@jupyter-widgets/base",
            "_view_module_version": "1.2.0",
            "_view_name": "StyleView",
            "bar_color": null,
            "description_width": ""
          }
        },
        "8544b4d7429a48f4bfad3bf84812fcef": {
          "model_module": "@jupyter-widgets/base",
          "model_name": "LayoutModel",
          "model_module_version": "1.2.0",
          "state": {
            "_model_module": "@jupyter-widgets/base",
            "_model_module_version": "1.2.0",
            "_model_name": "LayoutModel",
            "_view_count": null,
            "_view_module": "@jupyter-widgets/base",
            "_view_module_version": "1.2.0",
            "_view_name": "LayoutView",
            "align_content": null,
            "align_items": null,
            "align_self": null,
            "border": null,
            "bottom": null,
            "display": null,
            "flex": null,
            "flex_flow": null,
            "grid_area": null,
            "grid_auto_columns": null,
            "grid_auto_flow": null,
            "grid_auto_rows": null,
            "grid_column": null,
            "grid_gap": null,
            "grid_row": null,
            "grid_template_areas": null,
            "grid_template_columns": null,
            "grid_template_rows": null,
            "height": null,
            "justify_content": null,
            "justify_items": null,
            "left": null,
            "margin": null,
            "max_height": null,
            "max_width": null,
            "min_height": null,
            "min_width": null,
            "object_fit": null,
            "object_position": null,
            "order": null,
            "overflow": null,
            "overflow_x": null,
            "overflow_y": null,
            "padding": null,
            "right": null,
            "top": null,
            "visibility": null,
            "width": null
          }
        },
        "4ef2303a11af4746a4a4eb0071d5bdb3": {
          "model_module": "@jupyter-widgets/controls",
          "model_name": "DescriptionStyleModel",
          "model_module_version": "1.5.0",
          "state": {
            "_model_module": "@jupyter-widgets/controls",
            "_model_module_version": "1.5.0",
            "_model_name": "DescriptionStyleModel",
            "_view_count": null,
            "_view_module": "@jupyter-widgets/base",
            "_view_module_version": "1.2.0",
            "_view_name": "StyleView",
            "description_width": ""
          }
        },
        "22cd27686e314fa8bf8eb020cbd97ebb": {
          "model_module": "@jupyter-widgets/controls",
          "model_name": "HBoxModel",
          "model_module_version": "1.5.0",
          "state": {
            "_dom_classes": [],
            "_model_module": "@jupyter-widgets/controls",
            "_model_module_version": "1.5.0",
            "_model_name": "HBoxModel",
            "_view_count": null,
            "_view_module": "@jupyter-widgets/controls",
            "_view_module_version": "1.5.0",
            "_view_name": "HBoxView",
            "box_style": "",
            "children": [
              "IPY_MODEL_572e3a177b1543788f00f53fe01f88c2",
              "IPY_MODEL_a60d6d9ab6914b028f309b2f43b7e630",
              "IPY_MODEL_e56a312118cb4485954625216ec6cf2b"
            ],
            "layout": "IPY_MODEL_badc6700d4a24e46a4875b0d97de1da0"
          }
        },
        "572e3a177b1543788f00f53fe01f88c2": {
          "model_module": "@jupyter-widgets/controls",
          "model_name": "HTMLModel",
          "model_module_version": "1.5.0",
          "state": {
            "_dom_classes": [],
            "_model_module": "@jupyter-widgets/controls",
            "_model_module_version": "1.5.0",
            "_model_name": "HTMLModel",
            "_view_count": null,
            "_view_module": "@jupyter-widgets/controls",
            "_view_module_version": "1.5.0",
            "_view_name": "HTMLView",
            "description": "",
            "description_tooltip": null,
            "layout": "IPY_MODEL_34682323b41947989d72df119e22faab",
            "placeholder": "​",
            "style": "IPY_MODEL_6a52d50d803f4bdf91a67f25e67cabd3",
            "value": "Generating train split: "
          }
        },
        "a60d6d9ab6914b028f309b2f43b7e630": {
          "model_module": "@jupyter-widgets/controls",
          "model_name": "FloatProgressModel",
          "model_module_version": "1.5.0",
          "state": {
            "_dom_classes": [],
            "_model_module": "@jupyter-widgets/controls",
            "_model_module_version": "1.5.0",
            "_model_name": "FloatProgressModel",
            "_view_count": null,
            "_view_module": "@jupyter-widgets/controls",
            "_view_module_version": "1.5.0",
            "_view_name": "ProgressView",
            "bar_style": "success",
            "description": "",
            "description_tooltip": null,
            "layout": "IPY_MODEL_4aa54b751dbb4783b7618db7eb4c665e",
            "max": 1,
            "min": 0,
            "orientation": "horizontal",
            "style": "IPY_MODEL_f3efb7beb3da49cc836e207605902d6f",
            "value": 1
          }
        },
        "e56a312118cb4485954625216ec6cf2b": {
          "model_module": "@jupyter-widgets/controls",
          "model_name": "HTMLModel",
          "model_module_version": "1.5.0",
          "state": {
            "_dom_classes": [],
            "_model_module": "@jupyter-widgets/controls",
            "_model_module_version": "1.5.0",
            "_model_name": "HTMLModel",
            "_view_count": null,
            "_view_module": "@jupyter-widgets/controls",
            "_view_module_version": "1.5.0",
            "_view_name": "HTMLView",
            "description": "",
            "description_tooltip": null,
            "layout": "IPY_MODEL_f983a0d8aeaa4be68d50420dc9476fa3",
            "placeholder": "​",
            "style": "IPY_MODEL_c0bc921f7c40437888600b3462137616",
            "value": " 10792/0 [00:01&lt;00:00, 7740.71 examples/s]"
          }
        },
        "badc6700d4a24e46a4875b0d97de1da0": {
          "model_module": "@jupyter-widgets/base",
          "model_name": "LayoutModel",
          "model_module_version": "1.2.0",
          "state": {
            "_model_module": "@jupyter-widgets/base",
            "_model_module_version": "1.2.0",
            "_model_name": "LayoutModel",
            "_view_count": null,
            "_view_module": "@jupyter-widgets/base",
            "_view_module_version": "1.2.0",
            "_view_name": "LayoutView",
            "align_content": null,
            "align_items": null,
            "align_self": null,
            "border": null,
            "bottom": null,
            "display": null,
            "flex": null,
            "flex_flow": null,
            "grid_area": null,
            "grid_auto_columns": null,
            "grid_auto_flow": null,
            "grid_auto_rows": null,
            "grid_column": null,
            "grid_gap": null,
            "grid_row": null,
            "grid_template_areas": null,
            "grid_template_columns": null,
            "grid_template_rows": null,
            "height": null,
            "justify_content": null,
            "justify_items": null,
            "left": null,
            "margin": null,
            "max_height": null,
            "max_width": null,
            "min_height": null,
            "min_width": null,
            "object_fit": null,
            "object_position": null,
            "order": null,
            "overflow": null,
            "overflow_x": null,
            "overflow_y": null,
            "padding": null,
            "right": null,
            "top": null,
            "visibility": null,
            "width": null
          }
        },
        "34682323b41947989d72df119e22faab": {
          "model_module": "@jupyter-widgets/base",
          "model_name": "LayoutModel",
          "model_module_version": "1.2.0",
          "state": {
            "_model_module": "@jupyter-widgets/base",
            "_model_module_version": "1.2.0",
            "_model_name": "LayoutModel",
            "_view_count": null,
            "_view_module": "@jupyter-widgets/base",
            "_view_module_version": "1.2.0",
            "_view_name": "LayoutView",
            "align_content": null,
            "align_items": null,
            "align_self": null,
            "border": null,
            "bottom": null,
            "display": null,
            "flex": null,
            "flex_flow": null,
            "grid_area": null,
            "grid_auto_columns": null,
            "grid_auto_flow": null,
            "grid_auto_rows": null,
            "grid_column": null,
            "grid_gap": null,
            "grid_row": null,
            "grid_template_areas": null,
            "grid_template_columns": null,
            "grid_template_rows": null,
            "height": null,
            "justify_content": null,
            "justify_items": null,
            "left": null,
            "margin": null,
            "max_height": null,
            "max_width": null,
            "min_height": null,
            "min_width": null,
            "object_fit": null,
            "object_position": null,
            "order": null,
            "overflow": null,
            "overflow_x": null,
            "overflow_y": null,
            "padding": null,
            "right": null,
            "top": null,
            "visibility": null,
            "width": null
          }
        },
        "6a52d50d803f4bdf91a67f25e67cabd3": {
          "model_module": "@jupyter-widgets/controls",
          "model_name": "DescriptionStyleModel",
          "model_module_version": "1.5.0",
          "state": {
            "_model_module": "@jupyter-widgets/controls",
            "_model_module_version": "1.5.0",
            "_model_name": "DescriptionStyleModel",
            "_view_count": null,
            "_view_module": "@jupyter-widgets/base",
            "_view_module_version": "1.2.0",
            "_view_name": "StyleView",
            "description_width": ""
          }
        },
        "4aa54b751dbb4783b7618db7eb4c665e": {
          "model_module": "@jupyter-widgets/base",
          "model_name": "LayoutModel",
          "model_module_version": "1.2.0",
          "state": {
            "_model_module": "@jupyter-widgets/base",
            "_model_module_version": "1.2.0",
            "_model_name": "LayoutModel",
            "_view_count": null,
            "_view_module": "@jupyter-widgets/base",
            "_view_module_version": "1.2.0",
            "_view_name": "LayoutView",
            "align_content": null,
            "align_items": null,
            "align_self": null,
            "border": null,
            "bottom": null,
            "display": null,
            "flex": null,
            "flex_flow": null,
            "grid_area": null,
            "grid_auto_columns": null,
            "grid_auto_flow": null,
            "grid_auto_rows": null,
            "grid_column": null,
            "grid_gap": null,
            "grid_row": null,
            "grid_template_areas": null,
            "grid_template_columns": null,
            "grid_template_rows": null,
            "height": null,
            "justify_content": null,
            "justify_items": null,
            "left": null,
            "margin": null,
            "max_height": null,
            "max_width": null,
            "min_height": null,
            "min_width": null,
            "object_fit": null,
            "object_position": null,
            "order": null,
            "overflow": null,
            "overflow_x": null,
            "overflow_y": null,
            "padding": null,
            "right": null,
            "top": null,
            "visibility": null,
            "width": "20px"
          }
        },
        "f3efb7beb3da49cc836e207605902d6f": {
          "model_module": "@jupyter-widgets/controls",
          "model_name": "ProgressStyleModel",
          "model_module_version": "1.5.0",
          "state": {
            "_model_module": "@jupyter-widgets/controls",
            "_model_module_version": "1.5.0",
            "_model_name": "ProgressStyleModel",
            "_view_count": null,
            "_view_module": "@jupyter-widgets/base",
            "_view_module_version": "1.2.0",
            "_view_name": "StyleView",
            "bar_color": null,
            "description_width": ""
          }
        },
        "f983a0d8aeaa4be68d50420dc9476fa3": {
          "model_module": "@jupyter-widgets/base",
          "model_name": "LayoutModel",
          "model_module_version": "1.2.0",
          "state": {
            "_model_module": "@jupyter-widgets/base",
            "_model_module_version": "1.2.0",
            "_model_name": "LayoutModel",
            "_view_count": null,
            "_view_module": "@jupyter-widgets/base",
            "_view_module_version": "1.2.0",
            "_view_name": "LayoutView",
            "align_content": null,
            "align_items": null,
            "align_self": null,
            "border": null,
            "bottom": null,
            "display": null,
            "flex": null,
            "flex_flow": null,
            "grid_area": null,
            "grid_auto_columns": null,
            "grid_auto_flow": null,
            "grid_auto_rows": null,
            "grid_column": null,
            "grid_gap": null,
            "grid_row": null,
            "grid_template_areas": null,
            "grid_template_columns": null,
            "grid_template_rows": null,
            "height": null,
            "justify_content": null,
            "justify_items": null,
            "left": null,
            "margin": null,
            "max_height": null,
            "max_width": null,
            "min_height": null,
            "min_width": null,
            "object_fit": null,
            "object_position": null,
            "order": null,
            "overflow": null,
            "overflow_x": null,
            "overflow_y": null,
            "padding": null,
            "right": null,
            "top": null,
            "visibility": null,
            "width": null
          }
        },
        "c0bc921f7c40437888600b3462137616": {
          "model_module": "@jupyter-widgets/controls",
          "model_name": "DescriptionStyleModel",
          "model_module_version": "1.5.0",
          "state": {
            "_model_module": "@jupyter-widgets/controls",
            "_model_module_version": "1.5.0",
            "_model_name": "DescriptionStyleModel",
            "_view_count": null,
            "_view_module": "@jupyter-widgets/base",
            "_view_module_version": "1.2.0",
            "_view_name": "StyleView",
            "description_width": ""
          }
        }
      }
    }
  },
  "nbformat": 4,
  "nbformat_minor": 0
}
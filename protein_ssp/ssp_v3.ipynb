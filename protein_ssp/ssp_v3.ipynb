{
  "cells": [
    {
      "cell_type": "markdown",
      "metadata": {
        "id": "kNf-SPUHKVO3"
      },
      "source": [
        "#Secondary structure prediction"
      ]
    },
    {
      "cell_type": "markdown",
      "metadata": {
        "id": "LP_ufcWyKxu6"
      },
      "source": [
        "## Set up"
      ]
    },
    {
      "cell_type": "code",
      "execution_count": null,
      "metadata": {
        "colab": {
          "base_uri": "https://localhost:8080/"
        },
        "id": "-T-eQxT5KKdj",
        "outputId": "ce586a3e-1b94-47b6-cc8e-cf8bd942831e"
      },
      "outputs": [
        {
          "output_type": "stream",
          "name": "stdout",
          "text": [
            "Requirement already satisfied: numpy==1.23.5 in /usr/local/lib/python3.10/dist-packages (1.23.5)\n",
            "  Running command git clone --filter=blob:none --quiet https://github.com/instadeepai/nucleotide-transformer /tmp/pip-req-build-vpppingl\n",
            "Successfully installed boto3-1.33.6 botocore-1.33.6 dm-haiku-0.0.11 jmespath-1.0.1 jmp-0.0.4 nucleotide-transformer-0.0.1 s3transfer-0.8.2\n",
            "\u001b[2K     \u001b[90m━━━━━━━━━━━━━━━━━━━━━━━━━━━━━━━━━━━━━━━━\u001b[0m \u001b[32m3.1/3.1 MB\u001b[0m \u001b[31m15.5 MB/s\u001b[0m eta \u001b[36m0:00:00\u001b[0m\n",
            "\u001b[2K     \u001b[90m━━━━━━━━━━━━━━━━━━━━━━━━━━━━━━━━━━━━━━━━\u001b[0m \u001b[32m521.2/521.2 kB\u001b[0m \u001b[31m38.8 MB/s\u001b[0m eta \u001b[36m0:00:00\u001b[0m\n",
            "\u001b[2K     \u001b[90m━━━━━━━━━━━━━━━━━━━━━━━━━━━━━━━━━━━━━━━━\u001b[0m \u001b[32m265.7/265.7 kB\u001b[0m \u001b[31m27.0 MB/s\u001b[0m eta \u001b[36m0:00:00\u001b[0m\n",
            "\u001b[2K     \u001b[90m━━━━━━━━━━━━━━━━━━━━━━━━━━━━━━━━━━━━━━━━\u001b[0m \u001b[32m115.3/115.3 kB\u001b[0m \u001b[31m12.6 MB/s\u001b[0m eta \u001b[36m0:00:00\u001b[0m\n",
            "\u001b[2K     \u001b[90m━━━━━━━━━━━━━━━━━━━━━━━━━━━━━━━━━━━━━━━━\u001b[0m \u001b[32m134.8/134.8 kB\u001b[0m \u001b[31m15.8 MB/s\u001b[0m eta \u001b[36m0:00:00\u001b[0m\n",
            "\u001b[?25hRequirement already satisfied: lightgbm in /usr/local/lib/python3.10/dist-packages (4.1.0)\n",
            "Requirement already satisfied: numpy in /usr/local/lib/python3.10/dist-packages (from lightgbm) (1.23.5)\n",
            "Requirement already satisfied: scipy in /usr/local/lib/python3.10/dist-packages (from lightgbm) (1.11.4)\n"
          ]
        }
      ],
      "source": [
        "import os\n",
        "\n",
        "try:\n",
        "    import nucleotide_transformer\n",
        "except:\n",
        "    !pip install numpy==1.23.5\n",
        "    !pip install git+https://github.com/instadeepai/nucleotide-transformer@main |tail -n 1\n",
        "    import nucleotide_transformer\n",
        "\n",
        "if \"COLAB_TPU_ADDR\" in os.environ:\n",
        "    from jax.tools import colab_tpu\n",
        "\n",
        "    colab_tpu.setup_tpu()\n",
        "\n",
        "!pip install -q biopython transformers datasets huggingface_hub accelerate\n",
        "!pip install lightgbm\n",
        "\n",
        "import haiku as hk\n",
        "import jax\n",
        "import jax.numpy as jnp\n",
        "from nucleotide_transformer.pretrained import get_pretrained_model"
      ]
    },
    {
      "cell_type": "code",
      "execution_count": null,
      "metadata": {
        "id": "xfV2w5A7K743"
      },
      "outputs": [],
      "source": [
        "#@title Select a model\n",
        "#@markdown ---\n",
        "model_name = '500M_human_ref'#@param['500M_human_ref', '500M_1000G', '2B5_1000G', '2B5_multi_species', '50M_multi_species_v2', '100M_multi_species_v2', '250M_multi_species_v2', '500M_multi_species_v2']\n",
        "#@markdown ---"
      ]
    },
    {
      "cell_type": "markdown",
      "metadata": {
        "id": "kZymIhHcLAYs"
      },
      "source": [
        "##Import model"
      ]
    },
    {
      "cell_type": "code",
      "execution_count": null,
      "metadata": {
        "id": "2U0P5U6-LCfA"
      },
      "outputs": [],
      "source": [
        "embeddings_layer = 20  # layer of embeddings extraction (0:24)\n",
        "seq_max_length = 200  # Max length of the protein sequence\n",
        "\n",
        "# Get pretrained model\n",
        "parameters, forward_fn, tokenizer, config = get_pretrained_model(\n",
        "    model_name=model_name,\n",
        "    embeddings_layers_to_save=(embeddings_layer,),\n",
        "    max_positions= 250\n",
        ")\n",
        "forward_fn = hk.transform(forward_fn)"
      ]
    },
    {
      "cell_type": "markdown",
      "metadata": {
        "id": "EPY5JKhyLShc"
      },
      "source": [
        "##Import dataset"
      ]
    },
    {
      "cell_type": "code",
      "source": [
        "from datasets import load_dataset\n",
        "import pandas as pd\n",
        "\n",
        "dataset_dict = load_dataset(\"proteinea/secondary_structure_prediction\")\n",
        "dataset = dataset_dict[\"train\"].to_pandas()"
      ],
      "metadata": {
        "id": "O6MWj193vqQs"
      },
      "execution_count": null,
      "outputs": []
    },
    {
      "cell_type": "code",
      "execution_count": null,
      "metadata": {
        "id": "KOdj4zjTLSR5"
      },
      "outputs": [],
      "source": [
        "def filter_dataset(dataset, seq_max_length):\n",
        "    # making subsequences of length 100\n",
        "    filtered_rows = []\n",
        "\n",
        "    for index, row in dataset.iterrows():\n",
        "        input_string = row[\"input\"]\n",
        "        dssp3_string = row[\"dssp3\"]\n",
        "        dssp8_string = row[\"dssp8\"]\n",
        "\n",
        "        x_positions = [pos for pos, char in enumerate(input_string) if char == 'X']\n",
        "        o_positions = [pos for pos, char in enumerate(input_string) if char == 'O']\n",
        "\n",
        "        if not (x_positions or o_positions):\n",
        "            n = int(len(input_string)/seq_max_length) # Number of substrings created\n",
        "            for i in range(n):\n",
        "                start = i * seq_max_length\n",
        "                stop = start + seq_max_length\n",
        "\n",
        "                new_row = {\n",
        "                    \"input\": input_string[start:stop],\n",
        "                    \"dssp3\": dssp3_string[start:stop],\n",
        "                    \"dssp8\": dssp8_string[start:stop]\n",
        "                }\n",
        "\n",
        "                filtered_rows.append(new_row)\n",
        "        else:\n",
        "            occurrences = sorted(x_positions + o_positions)\n",
        "\n",
        "            start_idx = 0  # First non \"X\" or \"O\"\n",
        "            for i in occurrences:\n",
        "                if i - start_idx >= seq_max_length:\n",
        "                    n = int((i - start_idx)/seq_max_length)\n",
        "                    for j in range(n):\n",
        "                        start = j*seq_max_length + start_idx\n",
        "                        stop = start + seq_max_length\n",
        "\n",
        "                        new_row = {\n",
        "                            \"input\": input_string[start:stop],\n",
        "                            \"dssp3\": dssp3_string[start:stop],\n",
        "                            \"dssp8\": dssp8_string[start:stop]\n",
        "                        }\n",
        "\n",
        "                        filtered_rows.append(new_row)\n",
        "                start_idx = i + 1\n",
        "\n",
        "            # Check for the remaining substring at the end of the input string\n",
        "            if len(input_string) - start_idx >= seq_max_length:\n",
        "                n = int((len(input_string) - start_idx)/seq_max_length)\n",
        "                for j in range(n):\n",
        "                    start = j*seq_max_length + start_idx\n",
        "                    stop = start + seq_max_length\n",
        "\n",
        "                    new_row = {\n",
        "                        \"input\": input_string[start:stop],\n",
        "                        \"dssp3\": dssp3_string[start:stop],\n",
        "                        \"dssp8\": dssp8_string[start:stop]\n",
        "                    }\n",
        "\n",
        "                    filtered_rows.append(new_row)\n",
        "\n",
        "\n",
        "    df = pd.concat([pd.DataFrame([row]) for row in filtered_rows], ignore_index=True)\n",
        "    return df"
      ]
    },
    {
      "cell_type": "code",
      "source": [
        "df = filter_dataset(dataset, seq_max_length)"
      ],
      "metadata": {
        "id": "EIodO8DWBW_0"
      },
      "execution_count": null,
      "outputs": []
    },
    {
      "cell_type": "code",
      "source": [
        "df = df[:3000]  # Adjust to available memory\n",
        "\n",
        "X_proteins = df[\"input\"]\n",
        "y_seq = df[\"dssp3\"]  # Can be changed to \"dssp8\""
      ],
      "metadata": {
        "id": "xWsymji70ldq"
      },
      "execution_count": null,
      "outputs": []
    },
    {
      "cell_type": "markdown",
      "metadata": {
        "id": "K3s2sMbSTvZ7"
      },
      "source": [
        "## Making amino acid sequences into dna sequences"
      ]
    },
    {
      "cell_type": "code",
      "execution_count": null,
      "metadata": {
        "id": "NQJH0S1ZNfkX"
      },
      "outputs": [],
      "source": [
        "import random\n",
        "\n",
        "def protein_to_rna(protein_sequence):\n",
        "    amino_acid_to_codons = {\n",
        "        \"A\": [\"GCU\", \"GCC\", \"GCA\", \"GCG\"],\n",
        "        \"R\": [\"CGU\", \"CGC\", \"CGA\", \"CGG\", \"AGA\", \"AGG\"],\n",
        "        \"N\": [\"AAU\", \"AAC\"],\n",
        "        \"D\": [\"GAU\", \"GAC\"],\n",
        "        \"B\": [\"AAU\", \"AAC\", \"GAU\", \"GAC\"],\n",
        "        \"C\": [\"UGU\", \"UGC\"],\n",
        "        \"Q\": [\"CAA\", \"CAG\"],\n",
        "        \"E\": [\"GAA\", \"GAG\"],\n",
        "        \"Z\": [\"CAA\", \"CAG\", \"GAA\", \"GAG\"],\n",
        "        \"G\": [\"GGU\", \"GGC\", \"GGA\", \"GGG\"],\n",
        "        \"H\": [\"CAU\", \"CAC\"],\n",
        "        \"I\": [\"AUU\", \"AUC\", \"AUA\"],\n",
        "        \"L\": [\"CUU\", \"CUC\", \"CUA\", \"CUG\", \"UUA\", \"UUG\"],\n",
        "        \"K\": [\"AAA\", \"AAG\"],\n",
        "        \"M\": [\"AUG\"],\n",
        "        \"F\": [\"UUU\", \"UUC\"],\n",
        "        \"P\": [\"CCU\", \"CCC\", \"CCA\", \"CCG\"],\n",
        "        \"S\": [\"UCU\", \"UCC\", \"UCA\", \"UCG\", \"AGU\", \"AGC\"],\n",
        "        \"T\": [\"ACU\", \"ACC\", \"ACA\", \"ACG\"],\n",
        "        \"W\": [\"UGG\"],\n",
        "        \"Y\": [\"UAU\", \"UAC\"],\n",
        "        \"V\": [\"GUU\", \"GUC\", \"GUA\", \"GUG\"],\n",
        "        \"U\": [\"UGA\"],\n",
        "    }\n",
        "\n",
        "    # Converts protein sequence to RNA sequence\n",
        "    rna_sequence = ''\n",
        "    for amino_acid in protein_sequence:\n",
        "        codons = amino_acid_to_codons.get(amino_acid)\n",
        "        rna_sequence += codons[random.randint(0, len(codons)-1)]  # Chose codon\n",
        "\n",
        "    return rna_sequence\n",
        "\n",
        "X_rna = [protein_to_rna(protein) for protein in X_proteins]"
      ]
    },
    {
      "cell_type": "code",
      "execution_count": null,
      "metadata": {
        "id": "eQRAWFLYhVHr"
      },
      "outputs": [],
      "source": [
        "def rna_to_dna(rna_sequence):\n",
        "    rna_to_dna_base_pairs = {'A': 'T', 'U': 'A', 'C': 'G', 'G': 'C'}\n",
        "\n",
        "    # Convert RNA sequence to complementary DNA sequence\n",
        "    dna_sequence = ''.join(rna_to_dna_base_pairs.get(base) for base in rna_sequence)\n",
        "\n",
        "    return dna_sequence\n",
        "\n",
        "X_dna = [rna_to_dna(rna_sequence) for rna_sequence in X_rna]"
      ]
    },
    {
      "cell_type": "markdown",
      "metadata": {
        "id": "FfBLw1_UeczR"
      },
      "source": [
        "##Tokenizing and retrieving embeddings"
      ]
    },
    {
      "cell_type": "code",
      "execution_count": null,
      "metadata": {
        "id": "vcGtXfSwDf5W"
      },
      "outputs": [],
      "source": [
        "batch_size = 8 # Adjust to available memory\n",
        "\n",
        "def get_6mers_embeddings(sequences: list, batch_size: int):\n",
        "    embeddings = []  # Stores 6mers embeddings\n",
        "\n",
        "    # Split sequences into batches\n",
        "    batched_sequences = [sequences[i:i + batch_size] for i in range(0, len(sequences), batch_size)]\n",
        "\n",
        "    random_key = jax.random.PRNGKey(0)\n",
        "    extraction_layer = \"embeddings_\" + str(embeddings_layer)\n",
        "    cls_token_position = 0 # Position of the CLS token for every sequence\n",
        "\n",
        "    for batch in batched_sequences:\n",
        "        # Tokenize the batch\n",
        "        tokens_ids = [b[1] for b in tokenizer.batch_tokenize(batch)]\n",
        "        tokens = jnp.asarray(tokens_ids, dtype=jnp.int32)\n",
        "\n",
        "        # Infer\n",
        "        outs = forward_fn.apply(parameters, random_key, tokens)\n",
        "\n",
        "        # Get embeddings\n",
        "        batch_embeddings = outs[extraction_layer]\n",
        "\n",
        "        # Mask for padding tokens\n",
        "        padding_mask = (tokens != tokenizer.pad_token_id) & (jnp.arange(tokens.shape[1]) != cls_token_position)\n",
        "\n",
        "        # Element-wise multiplication to set embeddings corresponding to padding tokens to zero\n",
        "        masked_embeddings = batch_embeddings * padding_mask[:, :, None]\n",
        "\n",
        "        # Removing embeddings relative to CLS and padding tokens\n",
        "        sum_embeddings = jnp.sum(masked_embeddings, axis=-1)\n",
        "        non_zero_mask = sum_embeddings != 0.0\n",
        "        non_zero_embeddings = masked_embeddings[non_zero_mask]\n",
        "\n",
        "        embeddings.append(non_zero_embeddings)\n",
        "\n",
        "\n",
        "    return jnp.concatenate(embeddings, axis=0)"
      ]
    },
    {
      "cell_type": "code",
      "execution_count": null,
      "metadata": {
        "id": "xWb6NwJfVyYU"
      },
      "outputs": [],
      "source": [
        "X = get_6mers_embeddings(X_dna, batch_size)"
      ]
    },
    {
      "cell_type": "code",
      "execution_count": null,
      "metadata": {
        "id": "1fAXMrwcF0ae"
      },
      "outputs": [],
      "source": [
        "conc_y = ''.join(y_seq) # Concatenated sequences of target dna\n",
        "y = [conc_y[i] + conc_y[i+1] for i in range(0, len(conc_y), 2)]  # Cartesian product of classes"
      ]
    },
    {
      "cell_type": "code",
      "source": [
        "X2 = []\n",
        "y2 = []\n",
        "for i in range(0, len(X), 100):\n",
        "    X2.append(X[i+10:i+90])\n",
        "    y2.append(y[i+10:i+90])\n",
        "\n",
        "X = jnp.concatenate(X2, axis=0)\n",
        "%reset X2\n",
        "y = [item for sublist in y2 for item in sublist]"
      ],
      "metadata": {
        "id": "F4CfDaathgF7",
        "colab": {
          "base_uri": "https://localhost:8080/"
        },
        "outputId": "afc7582e-754a-4271-905d-e22db77b42ab"
      },
      "execution_count": null,
      "outputs": [
        {
          "output_type": "stream",
          "name": "stdout",
          "text": [
            "Once deleted, variables cannot be recovered. Proceed (y/[n])? y\n",
            "Don't know how to reset  x2, please run `%reset?` for details\n"
          ]
        }
      ]
    },
    {
      "cell_type": "markdown",
      "source": [
        "## Storing embeddings - labels"
      ],
      "metadata": {
        "id": "MgjSb-7PsWvb"
      }
    },
    {
      "cell_type": "code",
      "source": [
        "from google.colab import drive\n",
        "import pickle\n",
        "\n",
        "# Mount Google Drive\n",
        "drive.mount('/content/drive')\n",
        "\n",
        "# Create a folder in the root directory\n",
        "!mkdir -p \"/content/drive/My Drive/data\"\n",
        "\n",
        "with open('/content/drive/My Drive/data/X.pkl', 'wb') as f: # Storing embeddings\n",
        "  pickle.dump(X, f)\n",
        "\n",
        "with open('/content/drive/My Drive/data/y.pkl', 'wb') as f: # Storing labels\n",
        "  pickle.dump(y, f)"
      ],
      "metadata": {
        "id": "QtETGUnhsaku",
        "colab": {
          "base_uri": "https://localhost:8080/"
        },
        "outputId": "560ff29d-5479-4869-ebdc-a4f01df3bf73"
      },
      "execution_count": null,
      "outputs": [
        {
          "output_type": "stream",
          "name": "stdout",
          "text": [
            "Mounted at /content/drive\n"
          ]
        }
      ]
    },
    {
      "cell_type": "markdown",
      "metadata": {
        "id": "jMXS9ploHN5s"
      },
      "source": [
        "## Downstream task"
      ]
    },
    {
      "cell_type": "code",
      "source": [
        "from google.colab import drive\n",
        "# Mount Google Drive\n",
        "drive.mount('/content/drive')"
      ],
      "metadata": {
        "colab": {
          "base_uri": "https://localhost:8080/"
        },
        "id": "jDJCVWR1vA6b",
        "outputId": "1a8c735b-1e3e-44f9-b78a-6d06a05884b1"
      },
      "execution_count": null,
      "outputs": [
        {
          "output_type": "stream",
          "name": "stdout",
          "text": [
            "Drive already mounted at /content/drive; to attempt to forcibly remount, call drive.mount(\"/content/drive\", force_remount=True).\n"
          ]
        }
      ]
    },
    {
      "cell_type": "code",
      "source": [
        "import pickle\n",
        "# Loading data from drive\n",
        "with open('/content/drive/My Drive/data/X.pkl', 'rb') as f:\n",
        "    X = pickle.load(f)\n",
        "\n",
        "with open('/content/drive/My Drive/data/y.pkl', 'rb') as f:\n",
        "    y = pickle.load(f)"
      ],
      "metadata": {
        "id": "aRbYP0vyt2ti"
      },
      "execution_count": null,
      "outputs": []
    },
    {
      "cell_type": "code",
      "execution_count": null,
      "metadata": {
        "id": "NXJCB5fcHee_",
        "colab": {
          "base_uri": "https://localhost:8080/"
        },
        "outputId": "6f0f2838-deb3-43c1-9cb9-76d4739dd08f"
      },
      "outputs": [
        {
          "output_type": "stream",
          "name": "stdout",
          "text": [
            "[LightGBM] [Warning] feature_fraction is set=0.9, colsample_bytree=1.0 will be ignored. Current value: feature_fraction=0.9\n",
            "[LightGBM] [Warning] feature_fraction is set=0.9, colsample_bytree=1.0 will be ignored. Current value: feature_fraction=0.9\n",
            "[LightGBM] [Info] Auto-choosing col-wise multi-threading, the overhead of testing was 5.794919 seconds.\n",
            "You can set `force_col_wise=true` to remove the overhead.\n",
            "[LightGBM] [Info] Total Bins 326400\n",
            "[LightGBM] [Info] Number of data points in the train set: 160800, number of used features: 1280\n",
            "[LightGBM] [Info] Start training from score -1.126977\n",
            "[LightGBM] [Info] Start training from score -3.057555\n",
            "[LightGBM] [Info] Start training from score -3.338818\n",
            "[LightGBM] [Info] Start training from score -3.074635\n",
            "[LightGBM] [Info] Start training from score -1.763905\n",
            "[LightGBM] [Info] Start training from score -5.894347\n",
            "[LightGBM] [Info] Start training from score -3.325412\n",
            "[LightGBM] [Info] Start training from score -6.314593\n",
            "[LightGBM] [Info] Start training from score -1.092419\n",
            "[LightGBM] [Warning] feature_fraction is set=0.9, colsample_bytree=1.0 will be ignored. Current value: feature_fraction=0.9\n",
            "Accuracy: 0.50\n"
          ]
        }
      ],
      "source": [
        "import lightgbm as lgb\n",
        "from sklearn.model_selection import train_test_split\n",
        "from sklearn.metrics import accuracy_score\n",
        "\n",
        "X_train, X_test, y_train, y_test = train_test_split(X, y, test_size=0.33, random_state=0)\n",
        "\n",
        "params = {\n",
        "    'objective': 'multiclass',  # 'multiclass' for multi-class classification\n",
        "    'metric': 'multi_error',\n",
        "    'num_leaves': 31,\n",
        "    'learning_rate': 0.05,\n",
        "    'feature_fraction': 0.9\n",
        "}\n",
        "\n",
        "clf = lgb.LGBMClassifier(**params)\n",
        "\n",
        "clf.fit(X_train, y_train)\n",
        "y_pred = clf.predict(X_test)\n",
        "\n",
        "def cartesian_accuracy_score(y_pred, y_test):\n",
        "    y_pred = [char for string in y_pred for char in string]\n",
        "    y_test = [char for string in y_test for char in string]\n",
        "    return accuracy_score(y_test, y_pred)\n",
        "\n",
        "# Evaluate the classifier's performance\n",
        "accuracy = cartesian_accuracy_score(y_test, y_pred)\n",
        "print(f\"Accuracy: {accuracy:.2f}\")"
      ]
    },
    {
      "cell_type": "markdown",
      "source": [
        "## Prediction confusion matrix"
      ],
      "metadata": {
        "id": "_-4UXMq6Dznn"
      }
    },
    {
      "cell_type": "code",
      "source": [
        "import matplotlib.pyplot as plt\n",
        "from sklearn.metrics import confusion_matrix, ConfusionMatrixDisplay\n",
        "\n",
        "cm = confusion_matrix(y_test, y_pred, labels= [\"CC\", \"CH\", \"CE\", \"HC\", \"HH\", \"HE\", \"EC\", \"EH\", \"EE\"])\n",
        "disp = ConfusionMatrixDisplay(confusion_matrix=cm, display_labels=[\"CC\", \"CH\", \"CE\", \"HC\", \"HH\", \"HE\", \"EC\", \"EH\", \"EE\"])\n",
        "disp.plot()\n",
        "plt.show()"
      ],
      "metadata": {
        "id": "1WJY8QhkDsG5",
        "colab": {
          "base_uri": "https://localhost:8080/",
          "height": 449
        },
        "outputId": "b93ae3b6-a225-4f83-e6cc-b29cb91c6884"
      },
      "execution_count": null,
      "outputs": [
        {
          "output_type": "display_data",
          "data": {
            "text/plain": [
              "<Figure size 640x480 with 2 Axes>"
            ],
            "image/png": "[encoded data removed]"
          },
          "metadata": {}
        }
      ]
    },
    {
      "cell_type": "markdown",
      "source": [
        "## Testing model on training data"
      ],
      "metadata": {
        "id": "w_ycr2tIY92F"
      }
    },
    {
      "cell_type": "code",
      "source": [
        "train_pred = clf.predict(X_train)"
      ],
      "metadata": {
        "id": "88__ybo0ZEZR",
        "colab": {
          "base_uri": "https://localhost:8080/"
        },
        "outputId": "c9d8cbe5-ecbf-4239-f86c-5347150b2cd7"
      },
      "execution_count": null,
      "outputs": [
        {
          "output_type": "stream",
          "name": "stdout",
          "text": [
            "[LightGBM] [Warning] feature_fraction is set=0.9, colsample_bytree=1.0 will be ignored. Current value: feature_fraction=0.9\n"
          ]
        }
      ]
    },
    {
      "cell_type": "code",
      "source": [
        "cm2 = confusion_matrix(y_train, train_pred, labels= [\"CC\", \"CH\", \"CE\", \"HC\", \"HH\", \"HE\", \"EC\", \"EH\", \"EE\"])\n",
        "\n",
        "disp = ConfusionMatrixDisplay(confusion_matrix=cm2, display_labels=[\"CC\", \"CH\", \"CE\", \"HC\", \"HH\", \"HE\", \"EC\", \"EH\", \"EE\"])\n",
        "disp.plot()\n",
        "plt.show()"
      ],
      "metadata": {
        "id": "z8Y6v9ivEoXZ",
        "colab": {
          "base_uri": "https://localhost:8080/",
          "height": 449
        },
        "outputId": "e8a4dfac-f0df-4c91-cf23-32e6d80583b2"
      },
      "execution_count": null,
      "outputs": [
        {
          "output_type": "display_data",
          "data": {
            "text/plain": [
              "<Figure size 640x480 with 2 Axes>"
            ],
            "image/png": "[encoded data removed]"
          },
          "metadata": {}
        }
      ]
    },
    {
      "cell_type": "code",
      "source": [
        "# Evaluate the classifier's performance\n",
        "accuracy = cartesian_accuracy_score(y_train, train_pred)\n",
        "print(f\"Accuracy: {accuracy:.2f}\")"
      ],
      "metadata": {
        "id": "wUegQD9SY5dL",
        "colab": {
          "base_uri": "https://localhost:8080/"
        },
        "outputId": "e2acd174-e978-4a19-bdc3-53d2ecd3408f"
      },
      "execution_count": null,
      "outputs": [
        {
          "output_type": "stream",
          "name": "stdout",
          "text": [
            "Accuracy: 0.56\n"
          ]
        }
      ]
    }
  ],
  "metadata": {
    "colab": {
      "provenance": []
    },
    "kernelspec": {
      "display_name": "Python 3",
      "name": "python3"
    },
    "language_info": {
      "name": "python"
    }
  },
  "nbformat": 4,
  "nbformat_minor": 0
}
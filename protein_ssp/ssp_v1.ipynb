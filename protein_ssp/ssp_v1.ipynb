{
  "cells": [
    {
      "cell_type": "markdown",
      "metadata": {
        "id": "kNf-SPUHKVO3"
      },
      "source": [
        "#Secondary structure prediction"
      ]
    },
    {
      "cell_type": "markdown",
      "metadata": {
        "id": "LP_ufcWyKxu6"
      },
      "source": [
        "## Set up"
      ]
    },
    {
      "cell_type": "code",
      "execution_count": null,
      "metadata": {
        "colab": {
          "base_uri": "https://localhost:8080/"
        },
        "id": "-T-eQxT5KKdj",
        "outputId": "35d081c5-d9e8-4734-e0c5-7f40ccd56d1f"
      },
      "outputs": [
        {
          "output_type": "stream",
          "name": "stdout",
          "text": [
            "Requirement already satisfied: lightgbm in /usr/local/lib/python3.10/dist-packages (4.1.0)\n",
            "Requirement already satisfied: numpy in /usr/local/lib/python3.10/dist-packages (from lightgbm) (1.23.5)\n",
            "Requirement already satisfied: scipy in /usr/local/lib/python3.10/dist-packages (from lightgbm) (1.11.3)\n"
          ]
        }
      ],
      "source": [
        "import os\n",
        "\n",
        "try:\n",
        "    import nucleotide_transformer\n",
        "except:\n",
        "    !pip install numpy==1.23.5\n",
        "    !pip install git+https://github.com/instadeepai/nucleotide-transformer@main |tail -n 1\n",
        "    import nucleotide_transformer\n",
        "\n",
        "if \"COLAB_TPU_ADDR\" in os.environ:\n",
        "    from jax.tools import colab_tpu\n",
        "\n",
        "    colab_tpu.setup_tpu()\n",
        "\n",
        "!pip install -q biopython transformers datasets huggingface_hub accelerate\n",
        "!pip install lightgbm\n",
        "\n",
        "import haiku as hk\n",
        "import jax\n",
        "import jax.numpy as jnp\n",
        "from nucleotide_transformer.pretrained import get_pretrained_model"
      ]
    },
    {
      "cell_type": "code",
      "execution_count": null,
      "metadata": {
        "id": "xfV2w5A7K743"
      },
      "outputs": [],
      "source": [
        "#@title Select a model\n",
        "#@markdown ---\n",
        "model_name = '500M_human_ref'#@param['500M_human_ref', '500M_1000G', '2B5_1000G', '2B5_multi_species', '50M_multi_species_v2', '100M_multi_species_v2', '250M_multi_species_v2', '500M_multi_species_v2']\n",
        "#@markdown ---"
      ]
    },
    {
      "cell_type": "markdown",
      "metadata": {
        "id": "kZymIhHcLAYs"
      },
      "source": [
        "##Import model"
      ]
    },
    {
      "cell_type": "code",
      "execution_count": null,
      "metadata": {
        "id": "2U0P5U6-LCfA"
      },
      "outputs": [],
      "source": [
        "embeddings_layer = 20  # layer of embeddings extraction (0:24)\n",
        "\n",
        "# Get pretrained model\n",
        "parameters, forward_fn, tokenizer, config = get_pretrained_model(\n",
        "    model_name=model_name,\n",
        "    embeddings_layers_to_save=(embeddings_layer,),\n",
        "    max_positions=999\n",
        ")\n",
        "forward_fn = hk.transform(forward_fn)"
      ]
    },
    {
      "cell_type": "markdown",
      "metadata": {
        "id": "EPY5JKhyLShc"
      },
      "source": [
        "##Import dataset"
      ]
    },
    {
      "cell_type": "code",
      "source": [
        "!pip install -q biopython transformers datasets huggingface_hub accelerate\n",
        "from datasets import load_dataset\n",
        "import pandas as pd\n",
        "\n",
        "dataset_dict = load_dataset(\"proteinea/secondary_structure_prediction\")\n",
        "dataset = dataset_dict[\"train\"].to_pandas()\n",
        "X_proteins = dataset[\"input\"]"
      ],
      "metadata": {
        "id": "BKty1zmKYRGh",
        "colab": {
          "base_uri": "https://localhost:8080/",
          "height": 289,
          "referenced_widgets": [
            "5283ac5963c04996a63f3145dae9082d",
            "10a0d2efdea94eec98ea621a504c88b9",
            "1621a9153de2434b965ee60a7f4e4a01",
            "d6e5863ae9854035823bf28f089f68fd",
            "ed78fa5244cc4f1ba8fe4cd2c5f73dc4",
            "a540d351bb714a23b83c9f991a00502e",
            "de33bcea6a7b4029ba30354e5e30be24",
            "b30c6f6853f8409781627e8ec991aa9a",
            "e690091a731442108df93e6ec1c66bea",
            "12aad8279e594d75acb571ff60ca5fac",
            "d4735d6d9fbd44eaa9a99628100a0e7d",
            "2da85e3b36814d19a3021d2863771677",
            "db53aaf2e5674a5690a6f68c853f036f",
            "b94195de43884332994803f5b384ad07",
            "37a165cd31414c9ba004f6a7d57008f9",
            "7c0e365d31ed4006aa05cdc9f028fde8",
            "19f179bbd88e41759884e2039bd524e5",
            "818a7cf1718f47d9b3822e1a45245f05",
            "fe6a9b9c46e34261b6fce7efccd12085",
            "47369aac542d4edaa5c6c209f9bef6a7",
            "0c438a1f78e94ec989f804d2ede3b1e1",
            "069cde7bc2d1451fbbd4e63cff9973fc"
          ]
        },
        "outputId": "0fae245a-715b-4b7a-fb97-e3a355129af2"
      },
      "execution_count": null,
      "outputs": [
        {
          "output_type": "stream",
          "name": "stdout",
          "text": [
            "\u001b[2K     \u001b[90m━━━━━━━━━━━━━━━━━━━━━━━━━━━━━━━━━━━━━━━━\u001b[0m \u001b[32m3.1/3.1 MB\u001b[0m \u001b[31m10.8 MB/s\u001b[0m eta \u001b[36m0:00:00\u001b[0m\n",
            "\u001b[2K     \u001b[90m━━━━━━━━━━━━━━━━━━━━━━━━━━━━━━━━━━━━━━━━\u001b[0m \u001b[32m507.1/507.1 kB\u001b[0m \u001b[31m18.3 MB/s\u001b[0m eta \u001b[36m0:00:00\u001b[0m\n",
            "\u001b[2K     \u001b[90m━━━━━━━━━━━━━━━━━━━━━━━━━━━━━━━━━━━━━━━━\u001b[0m \u001b[32m270.9/270.9 kB\u001b[0m \u001b[31m14.8 MB/s\u001b[0m eta \u001b[36m0:00:00\u001b[0m\n",
            "\u001b[2K     \u001b[90m━━━━━━━━━━━━━━━━━━━━━━━━━━━━━━━━━━━━━━━━\u001b[0m \u001b[32m115.3/115.3 kB\u001b[0m \u001b[31m8.1 MB/s\u001b[0m eta \u001b[36m0:00:00\u001b[0m\n",
            "\u001b[2K     \u001b[90m━━━━━━━━━━━━━━━━━━━━━━━━━━━━━━━━━━━━━━━━\u001b[0m \u001b[32m134.8/134.8 kB\u001b[0m \u001b[31m12.7 MB/s\u001b[0m eta \u001b[36m0:00:00\u001b[0m\n",
            "\u001b[2K     \u001b[90m━━━━━━━━━━━━━━━━━━━━━━━━━━━━━━━━━━━━━━━━\u001b[0m \u001b[32m134.8/134.8 kB\u001b[0m \u001b[31m5.0 MB/s\u001b[0m eta \u001b[36m0:00:00\u001b[0m\n",
            "\u001b[?25h"
          ]
        },
        {
          "output_type": "stream",
          "name": "stderr",
          "text": [
            "/usr/local/lib/python3.10/dist-packages/huggingface_hub/utils/_token.py:88: UserWarning: \n",
            "The secret `HF_TOKEN` does not exist in your Colab secrets.\n",
            "To authenticate with the Hugging Face Hub, create a token in your settings tab (https://huggingface.co/settings/tokens), set it as secret in your Google Colab and restart your session.\n",
            "You will be able to reuse this secret in all of your notebooks.\n",
            "Please note that authentication is recommended but still optional to access public models or datasets.\n",
            "  warnings.warn(\n"
          ]
        },
        {
          "output_type": "display_data",
          "data": {
            "text/plain": [
              "Downloading data:   0%|          | 0.00/30.4M [00:00<?, ?B/s]"
            ],
            "application/vnd.jupyter.widget-view+json": {
              "version_major": 2,
              "version_minor": 0,
              "model_id": "5283ac5963c04996a63f3145dae9082d"
            }
          },
          "metadata": {}
        },
        {
          "output_type": "display_data",
          "data": {
            "text/plain": [
              "Generating train split: 0 examples [00:00, ? examples/s]"
            ],
            "application/vnd.jupyter.widget-view+json": {
              "version_major": 2,
              "version_minor": 0,
              "model_id": "2da85e3b36814d19a3021d2863771677"
            }
          },
          "metadata": {}
        }
      ]
    },
    {
      "cell_type": "code",
      "source": [
        "X_proteins = [x for x in X_proteins if \"X\" in x]\n",
        "print(len(X_proteins))"
      ],
      "metadata": {
        "colab": {
          "base_uri": "https://localhost:8080/"
        },
        "id": "jJx9iuLvja2g",
        "outputId": "1c644be3-33dd-4fe0-9e99-82fda01f4ce0"
      },
      "execution_count": null,
      "outputs": [
        {
          "output_type": "stream",
          "name": "stdout",
          "text": [
            "66\n"
          ]
        }
      ]
    },
    {
      "cell_type": "markdown",
      "source": [
        "## Preprocessing"
      ],
      "metadata": {
        "id": "cr3Tb-DnmZXU"
      }
    },
    {
      "cell_type": "code",
      "execution_count": null,
      "metadata": {
        "id": "KOdj4zjTLSR5"
      },
      "outputs": [],
      "source": [
        "from datasets import load_dataset\n",
        "import pandas as pd\n",
        "\n",
        "dataset_dict = load_dataset(\"proteinea/secondary_structure_prediction\")\n",
        "dataset = dataset_dict[\"train\"].to_pandas()\n",
        "\n",
        "def filter_dataset(dataset):\n",
        "    # making subsequences of length >=40 of sequences with \"X\" or \"O\".\n",
        "    filtered_rows = []\n",
        "\n",
        "    for index, row in dataset.iterrows():\n",
        "        input_string = row[\"input\"]\n",
        "        dssp3_string = row[\"dssp3\"]\n",
        "        dssp8_string = row[\"dssp8\"]\n",
        "\n",
        "        x_positions = [pos for pos, char in enumerate(input_string) if char == 'X']\n",
        "        o_positions = [pos for pos, char in enumerate(input_string) if char == 'O']\n",
        "\n",
        "        if not (x_positions or o_positions):\n",
        "            # Keep the entire row if it doesn't contain 'X' or 'O'\n",
        "            filtered_rows.append(row)\n",
        "        else:\n",
        "            occurrences = sorted(x_positions + o_positions)\n",
        "\n",
        "            start_idx = 0  # First non \"X\" or \"O\"\n",
        "            for i in occurrences:\n",
        "                if i - start_idx >= 40:\n",
        "                    new_row = {\n",
        "                        \"input\": input_string[start_idx:i],\n",
        "                        \"dssp3\": dssp3_string[start_idx:i],\n",
        "                        \"dssp8\": dssp8_string[start_idx:i]\n",
        "                    }\n",
        "                    filtered_rows.append(new_row)\n",
        "                start_idx = i + 1\n",
        "\n",
        "            # Check for the remaining substring at the end of the input string\n",
        "            if len(input_string) - start_idx >= 40:\n",
        "                new_row = {\n",
        "                    \"input\": input_string[start_idx:],\n",
        "                    \"dssp3\": dssp3_string[start_idx:],\n",
        "                    \"dssp8\": dssp8_string[start_idx:]\n",
        "                }\n",
        "                filtered_rows.append(new_row)\n",
        "\n",
        "    # removing odd length protein sequences because of unstable embedding rappresentations\n",
        "    filtered_rows = [row for row in filtered_rows if len(row[\"input\"]) % 2 == 0]\n",
        "\n",
        "    df = pd.concat([pd.DataFrame([row]) for row in filtered_rows], ignore_index=True)\n",
        "    return df\n",
        "\n",
        "df = filter_dataset(dataset)\n",
        "df = df[:3000]  # Adjust to available memory\n",
        "\n",
        "X_proteins = df[\"input\"]\n",
        "y_seq = df[\"dssp3\"]  # Can be changed to \"dssp8\""
      ]
    },
    {
      "cell_type": "markdown",
      "metadata": {
        "id": "K3s2sMbSTvZ7"
      },
      "source": [
        "## Making amino acid sequences into dna sequences"
      ]
    },
    {
      "cell_type": "code",
      "execution_count": null,
      "metadata": {
        "id": "NQJH0S1ZNfkX"
      },
      "outputs": [],
      "source": [
        "import random\n",
        "\n",
        "def protein_to_rna(protein_sequence):\n",
        "    amino_acid_to_codons = {\n",
        "        \"A\": [\"GCU\", \"GCC\", \"GCA\", \"GCG\"],\n",
        "        \"R\": [\"CGU\", \"CGC\", \"CGA\", \"CGG\", \"AGA\", \"AGG\"],\n",
        "        \"N\": [\"AAU\", \"AAC\"],\n",
        "        \"D\": [\"GAU\", \"GAC\"],\n",
        "        \"B\": [\"AAU\", \"AAC\", \"GAU\", \"GAC\"],\n",
        "        \"C\": [\"UGU\", \"UGC\"],\n",
        "        \"Q\": [\"CAA\", \"CAG\"],\n",
        "        \"E\": [\"GAA\", \"GAG\"],\n",
        "        \"Z\": [\"CAA\", \"CAG\", \"GAA\", \"GAG\"],\n",
        "        \"G\": [\"GGU\", \"GGC\", \"GGA\", \"GGG\"],\n",
        "        \"H\": [\"CAU\", \"CAC\"],\n",
        "        \"I\": [\"AUU\", \"AUC\", \"AUA\"],\n",
        "        \"L\": [\"CUU\", \"CUC\", \"CUA\", \"CUG\", \"UUA\", \"UUG\"],\n",
        "        \"K\": [\"AAA\", \"AAG\"],\n",
        "        \"M\": [\"AUG\"],\n",
        "        \"F\": [\"UUU\", \"UUC\"],\n",
        "        \"P\": [\"CCU\", \"CCC\", \"CCA\", \"CCG\"],\n",
        "        \"S\": [\"UCU\", \"UCC\", \"UCA\", \"UCG\", \"AGU\", \"AGC\"],\n",
        "        \"T\": [\"ACU\", \"ACC\", \"ACA\", \"ACG\"],\n",
        "        \"W\": [\"UGG\"],\n",
        "        \"Y\": [\"UAU\", \"UAC\"],\n",
        "        \"V\": [\"GUU\", \"GUC\", \"GUA\", \"GUG\"],\n",
        "        \"U\": [\"UUU\"], # Note: in this version U is associated to the wrong codon\n",
        "    }\n",
        "\n",
        "    # Converts protein sequence to RNA sequence\n",
        "    rna_sequence = ''\n",
        "    for amino_acid in protein_sequence:\n",
        "        codons = amino_acid_to_codons.get(amino_acid)\n",
        "        rna_sequence += codons[random.randint(0, len(codons)-1)]  # Chose codon\n",
        "\n",
        "    return rna_sequence\n",
        "\n",
        "X_rna = [protein_to_rna(protein) for protein in X_proteins]"
      ]
    },
    {
      "cell_type": "code",
      "execution_count": null,
      "metadata": {
        "id": "eQRAWFLYhVHr"
      },
      "outputs": [],
      "source": [
        "def rna_to_dna(rna_sequence):\n",
        "    rna_to_dna_base_pairs = {'A': 'T', 'U': 'A', 'C': 'G', 'G': 'C'}\n",
        "\n",
        "    # Convert RNA sequence to complementary DNA sequence\n",
        "    dna_sequence = ''.join(rna_to_dna_base_pairs.get(base) for base in rna_sequence)\n",
        "\n",
        "    return dna_sequence\n",
        "\n",
        "X_dna = [rna_to_dna(rna_sequence) for rna_sequence in X_rna]"
      ]
    },
    {
      "cell_type": "markdown",
      "metadata": {
        "id": "FfBLw1_UeczR"
      },
      "source": [
        "##Tokenizing and retrieving embeddings"
      ]
    },
    {
      "cell_type": "code",
      "execution_count": null,
      "metadata": {
        "id": "vcGtXfSwDf5W"
      },
      "outputs": [],
      "source": [
        "batch_size = 8 # Adjust to available memory\n",
        "\n",
        "def get_6mers_embeddings(sequences: list, batch_size: int):\n",
        "    embeddings = []  # Stores 6mers embeddings\n",
        "\n",
        "    # Split sequences into batches\n",
        "    batched_sequences = [sequences[i:i + batch_size] for i in range(0, len(sequences), batch_size)]\n",
        "\n",
        "    random_key = jax.random.PRNGKey(0)\n",
        "    extraction_layer = \"embeddings_\" + str(embeddings_layer)\n",
        "    cls_token_position = 0 # Position of the CLS token for every sequence\n",
        "\n",
        "    for batch in batched_sequences:\n",
        "        # Tokenize the batch\n",
        "        tokens_ids = [b[1] for b in tokenizer.batch_tokenize(batch)]\n",
        "        tokens = jnp.asarray(tokens_ids, dtype=jnp.int32)\n",
        "\n",
        "        # Infer\n",
        "        outs = forward_fn.apply(parameters, random_key, tokens)\n",
        "\n",
        "        # Get embeddings\n",
        "        batch_embeddings = outs[extraction_layer]\n",
        "\n",
        "        # Mask for padding tokens\n",
        "        padding_mask = (tokens != tokenizer.pad_token_id) & (jnp.arange(tokens.shape[1]) != cls_token_position)\n",
        "\n",
        "        # Element-wise multiplication to set embeddings corresponding to padding tokens to zero\n",
        "        masked_embeddings = batch_embeddings * padding_mask[:, :, None]\n",
        "\n",
        "        # Removing embeddings relative to CLS and padding tokens\n",
        "        sum_embeddings = jnp.sum(masked_embeddings, axis=-1)\n",
        "        non_zero_mask = sum_embeddings != 0.0\n",
        "        non_zero_embeddings = masked_embeddings[non_zero_mask]\n",
        "\n",
        "        embeddings.append(non_zero_embeddings)\n",
        "\n",
        "\n",
        "    return jnp.concatenate(embeddings, axis=0)"
      ]
    },
    {
      "cell_type": "code",
      "execution_count": null,
      "metadata": {
        "id": "xWb6NwJfVyYU"
      },
      "outputs": [],
      "source": [
        "X = get_6mers_embeddings(X_dna, batch_size)"
      ]
    },
    {
      "cell_type": "code",
      "execution_count": null,
      "metadata": {
        "id": "1fAXMrwcF0ae"
      },
      "outputs": [],
      "source": [
        "conc_y = ''  # Concatenated sequences of target dna\n",
        "conc_y = conc_y.join(y_seq)\n",
        "\n",
        "y = [conc_y[i] + conc_y[i+1] for i in range(0, len(conc_y), 2)]  # Cartesian product of classes"
      ]
    },
    {
      "cell_type": "markdown",
      "metadata": {
        "id": "jMXS9ploHN5s"
      },
      "source": [
        "## Downstream task"
      ]
    },
    {
      "cell_type": "code",
      "execution_count": null,
      "metadata": {
        "id": "NXJCB5fcHee_",
        "colab": {
          "base_uri": "https://localhost:8080/"
        },
        "outputId": "5639a9b1-0768-40a8-ae83-6fbf15108912"
      },
      "outputs": [
        {
          "output_type": "stream",
          "name": "stdout",
          "text": [
            "Accuracy: 0.51\n"
          ]
        }
      ],
      "source": [
        "import lightgbm as lgb\n",
        "from sklearn.model_selection import train_test_split\n",
        "from sklearn.metrics import accuracy_score\n",
        "from sklearn.ensemble import GradientBoostingClassifier\n",
        "\n",
        "X_train, X_test, y_train, y_test = train_test_split(X, y, test_size=0.33, random_state=0)\n",
        "\n",
        "params = {\n",
        "    'objective': 'multiclass',  # 'multiclass' for multi-class classification\n",
        "    'metric': 'multi_error',\n",
        "    'num_leaves': 31,\n",
        "    'learning_rate': 0.05,\n",
        "    'feature_fraction': 0.9\n",
        "}\n",
        "\n",
        "clf = lgb.LGBMClassifier(**params)\n",
        "\n",
        "clf.fit(X_train, y_train)\n",
        "y_pred = clf.predict(X_test)\n",
        "\n",
        "def cartesian_accuracy_score(y_pred, y_test):\n",
        "    y_pred = [char for string in y_pred for char in string]\n",
        "    y_test = [char for string in y_test for char in string]\n",
        "    return accuracy_score(y_test, y_pred)\n",
        "\n",
        "# Evaluate the classifier's performance\n",
        "accuracy = cartesian_accuracy_score(y_test, y_pred)\n",
        "print(f\"Accuracy: {accuracy:.2f}\")"
      ]
    }
  ],
  "metadata": {
    "colab": {
      "provenance": []
    },
    "kernelspec": {
      "display_name": "Python 3",
      "name": "python3"
    },
    "language_info": {
      "name": "python"
    },
    "widgets": {
      "application/vnd.jupyter.widget-state+json": {
        "5283ac5963c04996a63f3145dae9082d": {
          "model_module": "@jupyter-widgets/controls",
          "model_name": "HBoxModel",
          "model_module_version": "1.5.0",
          "state": {
            "_dom_classes": [],
            "_model_module": "@jupyter-widgets/controls",
            "_model_module_version": "1.5.0",
            "_model_name": "HBoxModel",
            "_view_count": null,
            "_view_module": "@jupyter-widgets/controls",
            "_view_module_version": "1.5.0",
            "_view_name": "HBoxView",
            "box_style": "",
            "children": [
              "IPY_MODEL_10a0d2efdea94eec98ea621a504c88b9",
              "IPY_MODEL_1621a9153de2434b965ee60a7f4e4a01",
              "IPY_MODEL_d6e5863ae9854035823bf28f089f68fd"
            ],
            "layout": "IPY_MODEL_ed78fa5244cc4f1ba8fe4cd2c5f73dc4"
          }
        },
        "10a0d2efdea94eec98ea621a504c88b9": {
          "model_module": "@jupyter-widgets/controls",
          "model_name": "HTMLModel",
          "model_module_version": "1.5.0",
          "state": {
            "_dom_classes": [],
            "_model_module": "@jupyter-widgets/controls",
            "_model_module_version": "1.5.0",
            "_model_name": "HTMLModel",
            "_view_count": null,
            "_view_module": "@jupyter-widgets/controls",
            "_view_module_version": "1.5.0",
            "_view_name": "HTMLView",
            "description": "",
            "description_tooltip": null,
            "layout": "IPY_MODEL_a540d351bb714a23b83c9f991a00502e",
            "placeholder": "​",
            "style": "IPY_MODEL_de33bcea6a7b4029ba30354e5e30be24",
            "value": "Downloading data: 100%"
          }
        },
        "1621a9153de2434b965ee60a7f4e4a01": {
          "model_module": "@jupyter-widgets/controls",
          "model_name": "FloatProgressModel",
          "model_module_version": "1.5.0",
          "state": {
            "_dom_classes": [],
            "_model_module": "@jupyter-widgets/controls",
            "_model_module_version": "1.5.0",
            "_model_name": "FloatProgressModel",
            "_view_count": null,
            "_view_module": "@jupyter-widgets/controls",
            "_view_module_version": "1.5.0",
            "_view_name": "ProgressView",
            "bar_style": "success",
            "description": "",
            "description_tooltip": null,
            "layout": "IPY_MODEL_b30c6f6853f8409781627e8ec991aa9a",
            "max": 30398497,
            "min": 0,
            "orientation": "horizontal",
            "style": "IPY_MODEL_e690091a731442108df93e6ec1c66bea",
            "value": 30398497
          }
        },
        "d6e5863ae9854035823bf28f089f68fd": {
          "model_module": "@jupyter-widgets/controls",
          "model_name": "HTMLModel",
          "model_module_version": "1.5.0",
          "state": {
            "_dom_classes": [],
            "_model_module": "@jupyter-widgets/controls",
            "_model_module_version": "1.5.0",
            "_model_name": "HTMLModel",
            "_view_count": null,
            "_view_module": "@jupyter-widgets/controls",
            "_view_module_version": "1.5.0",
            "_view_name": "HTMLView",
            "description": "",
            "description_tooltip": null,
            "layout": "IPY_MODEL_12aad8279e594d75acb571ff60ca5fac",
            "placeholder": "​",
            "style": "IPY_MODEL_d4735d6d9fbd44eaa9a99628100a0e7d",
            "value": " 30.4M/30.4M [00:04&lt;00:00, 7.04MB/s]"
          }
        },
        "ed78fa5244cc4f1ba8fe4cd2c5f73dc4": {
          "model_module": "@jupyter-widgets/base",
          "model_name": "LayoutModel",
          "model_module_version": "1.2.0",
          "state": {
            "_model_module": "@jupyter-widgets/base",
            "_model_module_version": "1.2.0",
            "_model_name": "LayoutModel",
            "_view_count": null,
            "_view_module": "@jupyter-widgets/base",
            "_view_module_version": "1.2.0",
            "_view_name": "LayoutView",
            "align_content": null,
            "align_items": null,
            "align_self": null,
            "border": null,
            "bottom": null,
            "display": null,
            "flex": null,
            "flex_flow": null,
            "grid_area": null,
            "grid_auto_columns": null,
            "grid_auto_flow": null,
            "grid_auto_rows": null,
            "grid_column": null,
            "grid_gap": null,
            "grid_row": null,
            "grid_template_areas": null,
            "grid_template_columns": null,
            "grid_template_rows": null,
            "height": null,
            "justify_content": null,
            "justify_items": null,
            "left": null,
            "margin": null,
            "max_height": null,
            "max_width": null,
            "min_height": null,
            "min_width": null,
            "object_fit": null,
            "object_position": null,
            "order": null,
            "overflow": null,
            "overflow_x": null,
            "overflow_y": null,
            "padding": null,
            "right": null,
            "top": null,
            "visibility": null,
            "width": null
          }
        },
        "a540d351bb714a23b83c9f991a00502e": {
          "model_module": "@jupyter-widgets/base",
          "model_name": "LayoutModel",
          "model_module_version": "1.2.0",
          "state": {
            "_model_module": "@jupyter-widgets/base",
            "_model_module_version": "1.2.0",
            "_model_name": "LayoutModel",
            "_view_count": null,
            "_view_module": "@jupyter-widgets/base",
            "_view_module_version": "1.2.0",
            "_view_name": "LayoutView",
            "align_content": null,
            "align_items": null,
            "align_self": null,
            "border": null,
            "bottom": null,
            "display": null,
            "flex": null,
            "flex_flow": null,
            "grid_area": null,
            "grid_auto_columns": null,
            "grid_auto_flow": null,
            "grid_auto_rows": null,
            "grid_column": null,
            "grid_gap": null,
            "grid_row": null,
            "grid_template_areas": null,
            "grid_template_columns": null,
            "grid_template_rows": null,
            "height": null,
            "justify_content": null,
            "justify_items": null,
            "left": null,
            "margin": null,
            "max_height": null,
            "max_width": null,
            "min_height": null,
            "min_width": null,
            "object_fit": null,
            "object_position": null,
            "order": null,
            "overflow": null,
            "overflow_x": null,
            "overflow_y": null,
            "padding": null,
            "right": null,
            "top": null,
            "visibility": null,
            "width": null
          }
        },
        "de33bcea6a7b4029ba30354e5e30be24": {
          "model_module": "@jupyter-widgets/controls",
          "model_name": "DescriptionStyleModel",
          "model_module_version": "1.5.0",
          "state": {
            "_model_module": "@jupyter-widgets/controls",
            "_model_module_version": "1.5.0",
            "_model_name": "DescriptionStyleModel",
            "_view_count": null,
            "_view_module": "@jupyter-widgets/base",
            "_view_module_version": "1.2.0",
            "_view_name": "StyleView",
            "description_width": ""
          }
        },
        "b30c6f6853f8409781627e8ec991aa9a": {
          "model_module": "@jupyter-widgets/base",
          "model_name": "LayoutModel",
          "model_module_version": "1.2.0",
          "state": {
            "_model_module": "@jupyter-widgets/base",
            "_model_module_version": "1.2.0",
            "_model_name": "LayoutModel",
            "_view_count": null,
            "_view_module": "@jupyter-widgets/base",
            "_view_module_version": "1.2.0",
            "_view_name": "LayoutView",
            "align_content": null,
            "align_items": null,
            "align_self": null,
            "border": null,
            "bottom": null,
            "display": null,
            "flex": null,
            "flex_flow": null,
            "grid_area": null,
            "grid_auto_columns": null,
            "grid_auto_flow": null,
            "grid_auto_rows": null,
            "grid_column": null,
            "grid_gap": null,
            "grid_row": null,
            "grid_template_areas": null,
            "grid_template_columns": null,
            "grid_template_rows": null,
            "height": null,
            "justify_content": null,
            "justify_items": null,
            "left": null,
            "margin": null,
            "max_height": null,
            "max_width": null,
            "min_height": null,
            "min_width": null,
            "object_fit": null,
            "object_position": null,
            "order": null,
            "overflow": null,
            "overflow_x": null,
            "overflow_y": null,
            "padding": null,
            "right": null,
            "top": null,
            "visibility": null,
            "width": null
          }
        },
        "e690091a731442108df93e6ec1c66bea": {
          "model_module": "@jupyter-widgets/controls",
          "model_name": "ProgressStyleModel",
          "model_module_version": "1.5.0",
          "state": {
            "_model_module": "@jupyter-widgets/controls",
            "_model_module_version": "1.5.0",
            "_model_name": "ProgressStyleModel",
            "_view_count": null,
            "_view_module": "@jupyter-widgets/base",
            "_view_module_version": "1.2.0",
            "_view_name": "StyleView",
            "bar_color": null,
            "description_width": ""
          }
        },
        "12aad8279e594d75acb571ff60ca5fac": {
          "model_module": "@jupyter-widgets/base",
          "model_name": "LayoutModel",
          "model_module_version": "1.2.0",
          "state": {
            "_model_module": "@jupyter-widgets/base",
            "_model_module_version": "1.2.0",
            "_model_name": "LayoutModel",
            "_view_count": null,
            "_view_module": "@jupyter-widgets/base",
            "_view_module_version": "1.2.0",
            "_view_name": "LayoutView",
            "align_content": null,
            "align_items": null,
            "align_self": null,
            "border": null,
            "bottom": null,
            "display": null,
            "flex": null,
            "flex_flow": null,
            "grid_area": null,
            "grid_auto_columns": null,
            "grid_auto_flow": null,
            "grid_auto_rows": null,
            "grid_column": null,
            "grid_gap": null,
            "grid_row": null,
            "grid_template_areas": null,
            "grid_template_columns": null,
            "grid_template_rows": null,
            "height": null,
            "justify_content": null,
            "justify_items": null,
            "left": null,
            "margin": null,
            "max_height": null,
            "max_width": null,
            "min_height": null,
            "min_width": null,
            "object_fit": null,
            "object_position": null,
            "order": null,
            "overflow": null,
            "overflow_x": null,
            "overflow_y": null,
            "padding": null,
            "right": null,
            "top": null,
            "visibility": null,
            "width": null
          }
        },
        "d4735d6d9fbd44eaa9a99628100a0e7d": {
          "model_module": "@jupyter-widgets/controls",
          "model_name": "DescriptionStyleModel",
          "model_module_version": "1.5.0",
          "state": {
            "_model_module": "@jupyter-widgets/controls",
            "_model_module_version": "1.5.0",
            "_model_name": "DescriptionStyleModel",
            "_view_count": null,
            "_view_module": "@jupyter-widgets/base",
            "_view_module_version": "1.2.0",
            "_view_name": "StyleView",
            "description_width": ""
          }
        },
        "2da85e3b36814d19a3021d2863771677": {
          "model_module": "@jupyter-widgets/controls",
          "model_name": "HBoxModel",
          "model_module_version": "1.5.0",
          "state": {
            "_dom_classes": [],
            "_model_module": "@jupyter-widgets/controls",
            "_model_module_version": "1.5.0",
            "_model_name": "HBoxModel",
            "_view_count": null,
            "_view_module": "@jupyter-widgets/controls",
            "_view_module_version": "1.5.0",
            "_view_name": "HBoxView",
            "box_style": "",
            "children": [
              "IPY_MODEL_db53aaf2e5674a5690a6f68c853f036f",
              "IPY_MODEL_b94195de43884332994803f5b384ad07",
              "IPY_MODEL_37a165cd31414c9ba004f6a7d57008f9"
            ],
            "layout": "IPY_MODEL_7c0e365d31ed4006aa05cdc9f028fde8"
          }
        },
        "db53aaf2e5674a5690a6f68c853f036f": {
          "model_module": "@jupyter-widgets/controls",
          "model_name": "HTMLModel",
          "model_module_version": "1.5.0",
          "state": {
            "_dom_classes": [],
            "_model_module": "@jupyter-widgets/controls",
            "_model_module_version": "1.5.0",
            "_model_name": "HTMLModel",
            "_view_count": null,
            "_view_module": "@jupyter-widgets/controls",
            "_view_module_version": "1.5.0",
            "_view_name": "HTMLView",
            "description": "",
            "description_tooltip": null,
            "layout": "IPY_MODEL_19f179bbd88e41759884e2039bd524e5",
            "placeholder": "​",
            "style": "IPY_MODEL_818a7cf1718f47d9b3822e1a45245f05",
            "value": "Generating train split: "
          }
        },
        "b94195de43884332994803f5b384ad07": {
          "model_module": "@jupyter-widgets/controls",
          "model_name": "FloatProgressModel",
          "model_module_version": "1.5.0",
          "state": {
            "_dom_classes": [],
            "_model_module": "@jupyter-widgets/controls",
            "_model_module_version": "1.5.0",
            "_model_name": "FloatProgressModel",
            "_view_count": null,
            "_view_module": "@jupyter-widgets/controls",
            "_view_module_version": "1.5.0",
            "_view_name": "ProgressView",
            "bar_style": "success",
            "description": "",
            "description_tooltip": null,
            "layout": "IPY_MODEL_fe6a9b9c46e34261b6fce7efccd12085",
            "max": 1,
            "min": 0,
            "orientation": "horizontal",
            "style": "IPY_MODEL_47369aac542d4edaa5c6c209f9bef6a7",
            "value": 1
          }
        },
        "37a165cd31414c9ba004f6a7d57008f9": {
          "model_module": "@jupyter-widgets/controls",
          "model_name": "HTMLModel",
          "model_module_version": "1.5.0",
          "state": {
            "_dom_classes": [],
            "_model_module": "@jupyter-widgets/controls",
            "_model_module_version": "1.5.0",
            "_model_name": "HTMLModel",
            "_view_count": null,
            "_view_module": "@jupyter-widgets/controls",
            "_view_module_version": "1.5.0",
            "_view_name": "HTMLView",
            "description": "",
            "description_tooltip": null,
            "layout": "IPY_MODEL_0c438a1f78e94ec989f804d2ede3b1e1",
            "placeholder": "​",
            "style": "IPY_MODEL_069cde7bc2d1451fbbd4e63cff9973fc",
            "value": " 10792/0 [00:00&lt;00:00, 18535.39 examples/s]"
          }
        },
        "7c0e365d31ed4006aa05cdc9f028fde8": {
          "model_module": "@jupyter-widgets/base",
          "model_name": "LayoutModel",
          "model_module_version": "1.2.0",
          "state": {
            "_model_module": "@jupyter-widgets/base",
            "_model_module_version": "1.2.0",
            "_model_name": "LayoutModel",
            "_view_count": null,
            "_view_module": "@jupyter-widgets/base",
            "_view_module_version": "1.2.0",
            "_view_name": "LayoutView",
            "align_content": null,
            "align_items": null,
            "align_self": null,
            "border": null,
            "bottom": null,
            "display": null,
            "flex": null,
            "flex_flow": null,
            "grid_area": null,
            "grid_auto_columns": null,
            "grid_auto_flow": null,
            "grid_auto_rows": null,
            "grid_column": null,
            "grid_gap": null,
            "grid_row": null,
            "grid_template_areas": null,
            "grid_template_columns": null,
            "grid_template_rows": null,
            "height": null,
            "justify_content": null,
            "justify_items": null,
            "left": null,
            "margin": null,
            "max_height": null,
            "max_width": null,
            "min_height": null,
            "min_width": null,
            "object_fit": null,
            "object_position": null,
            "order": null,
            "overflow": null,
            "overflow_x": null,
            "overflow_y": null,
            "padding": null,
            "right": null,
            "top": null,
            "visibility": null,
            "width": null
          }
        },
        "19f179bbd88e41759884e2039bd524e5": {
          "model_module": "@jupyter-widgets/base",
          "model_name": "LayoutModel",
          "model_module_version": "1.2.0",
          "state": {
            "_model_module": "@jupyter-widgets/base",
            "_model_module_version": "1.2.0",
            "_model_name": "LayoutModel",
            "_view_count": null,
            "_view_module": "@jupyter-widgets/base",
            "_view_module_version": "1.2.0",
            "_view_name": "LayoutView",
            "align_content": null,
            "align_items": null,
            "align_self": null,
            "border": null,
            "bottom": null,
            "display": null,
            "flex": null,
            "flex_flow": null,
            "grid_area": null,
            "grid_auto_columns": null,
            "grid_auto_flow": null,
            "grid_auto_rows": null,
            "grid_column": null,
            "grid_gap": null,
            "grid_row": null,
            "grid_template_areas": null,
            "grid_template_columns": null,
            "grid_template_rows": null,
            "height": null,
            "justify_content": null,
            "justify_items": null,
            "left": null,
            "margin": null,
            "max_height": null,
            "max_width": null,
            "min_height": null,
            "min_width": null,
            "object_fit": null,
            "object_position": null,
            "order": null,
            "overflow": null,
            "overflow_x": null,
            "overflow_y": null,
            "padding": null,
            "right": null,
            "top": null,
            "visibility": null,
            "width": null
          }
        },
        "818a7cf1718f47d9b3822e1a45245f05": {
          "model_module": "@jupyter-widgets/controls",
          "model_name": "DescriptionStyleModel",
          "model_module_version": "1.5.0",
          "state": {
            "_model_module": "@jupyter-widgets/controls",
            "_model_module_version": "1.5.0",
            "_model_name": "DescriptionStyleModel",
            "_view_count": null,
            "_view_module": "@jupyter-widgets/base",
            "_view_module_version": "1.2.0",
            "_view_name": "StyleView",
            "description_width": ""
          }
        },
        "fe6a9b9c46e34261b6fce7efccd12085": {
          "model_module": "@jupyter-widgets/base",
          "model_name": "LayoutModel",
          "model_module_version": "1.2.0",
          "state": {
            "_model_module": "@jupyter-widgets/base",
            "_model_module_version": "1.2.0",
            "_model_name": "LayoutModel",
            "_view_count": null,
            "_view_module": "@jupyter-widgets/base",
            "_view_module_version": "1.2.0",
            "_view_name": "LayoutView",
            "align_content": null,
            "align_items": null,
            "align_self": null,
            "border": null,
            "bottom": null,
            "display": null,
            "flex": null,
            "flex_flow": null,
            "grid_area": null,
            "grid_auto_columns": null,
            "grid_auto_flow": null,
            "grid_auto_rows": null,
            "grid_column": null,
            "grid_gap": null,
            "grid_row": null,
            "grid_template_areas": null,
            "grid_template_columns": null,
            "grid_template_rows": null,
            "height": null,
            "justify_content": null,
            "justify_items": null,
            "left": null,
            "margin": null,
            "max_height": null,
            "max_width": null,
            "min_height": null,
            "min_width": null,
            "object_fit": null,
            "object_position": null,
            "order": null,
            "overflow": null,
            "overflow_x": null,
            "overflow_y": null,
            "padding": null,
            "right": null,
            "top": null,
            "visibility": null,
            "width": "20px"
          }
        },
        "47369aac542d4edaa5c6c209f9bef6a7": {
          "model_module": "@jupyter-widgets/controls",
          "model_name": "ProgressStyleModel",
          "model_module_version": "1.5.0",
          "state": {
            "_model_module": "@jupyter-widgets/controls",
            "_model_module_version": "1.5.0",
            "_model_name": "ProgressStyleModel",
            "_view_count": null,
            "_view_module": "@jupyter-widgets/base",
            "_view_module_version": "1.2.0",
            "_view_name": "StyleView",
            "bar_color": null,
            "description_width": ""
          }
        },
        "0c438a1f78e94ec989f804d2ede3b1e1": {
          "model_module": "@jupyter-widgets/base",
          "model_name": "LayoutModel",
          "model_module_version": "1.2.0",
          "state": {
            "_model_module": "@jupyter-widgets/base",
            "_model_module_version": "1.2.0",
            "_model_name": "LayoutModel",
            "_view_count": null,
            "_view_module": "@jupyter-widgets/base",
            "_view_module_version": "1.2.0",
            "_view_name": "LayoutView",
            "align_content": null,
            "align_items": null,
            "align_self": null,
            "border": null,
            "bottom": null,
            "display": null,
            "flex": null,
            "flex_flow": null,
            "grid_area": null,
            "grid_auto_columns": null,
            "grid_auto_flow": null,
            "grid_auto_rows": null,
            "grid_column": null,
            "grid_gap": null,
            "grid_row": null,
            "grid_template_areas": null,
            "grid_template_columns": null,
            "grid_template_rows": null,
            "height": null,
            "justify_content": null,
            "justify_items": null,
            "left": null,
            "margin": null,
            "max_height": null,
            "max_width": null,
            "min_height": null,
            "min_width": null,
            "object_fit": null,
            "object_position": null,
            "order": null,
            "overflow": null,
            "overflow_x": null,
            "overflow_y": null,
            "padding": null,
            "right": null,
            "top": null,
            "visibility": null,
            "width": null
          }
        },
        "069cde7bc2d1451fbbd4e63cff9973fc": {
          "model_module": "@jupyter-widgets/controls",
          "model_name": "DescriptionStyleModel",
          "model_module_version": "1.5.0",
          "state": {
            "_model_module": "@jupyter-widgets/controls",
            "_model_module_version": "1.5.0",
            "_model_name": "DescriptionStyleModel",
            "_view_count": null,
            "_view_module": "@jupyter-widgets/base",
            "_view_module_version": "1.2.0",
            "_view_name": "StyleView",
            "description_width": ""
          }
        }
      }
    }
  },
  "nbformat": 4,
  "nbformat_minor": 0
}